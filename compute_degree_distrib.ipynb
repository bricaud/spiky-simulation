{
 "cells": [
  {
   "cell_type": "code",
   "execution_count": 2,
   "metadata": {},
   "outputs": [],
   "source": [
    "#import pandas as pd\n",
    "#import json\n",
    "import networkx as nx"
   ]
  },
  {
   "cell_type": "code",
   "execution_count": 3,
   "metadata": {
    "scrolled": true
   },
   "outputs": [],
   "source": [
    "import sys\n",
    "sys.path.append(\"../pysad\")\n",
    "#import pysad\n",
    "#import pysad.utils\n",
    "import pysad.exploration\n",
    "import pysad.synthesis\n",
    "import pysad.graph\n",
    "from pysad.NodeInfo import SynthNodeInfo"
   ]
  },
  {
   "cell_type": "code",
   "execution_count": 4,
   "metadata": {},
   "outputs": [],
   "source": [
    "sys.path.append(\"../littleballoffur\")"
   ]
  },
  {
   "cell_type": "code",
   "execution_count": 5,
   "metadata": {},
   "outputs": [],
   "source": [
    "from littleballoffur.dataset import GraphReader"
   ]
  },
  {
   "cell_type": "code",
   "execution_count": 6,
   "metadata": {},
   "outputs": [],
   "source": [
    "import test_module"
   ]
  },
  {
   "cell_type": "markdown",
   "metadata": {},
   "source": [
    "# Creating the graph"
   ]
  },
  {
   "cell_type": "code",
   "execution_count": 19,
   "metadata": {
    "scrolled": true
   },
   "outputs": [
    {
     "data": {
      "text/plain": [
       "<module 'test_module' from '/home/benjamin/Documents/EPFL/Research/sad/spiky-simulation/test_module.py'>"
      ]
     },
     "execution_count": 19,
     "metadata": {},
     "output_type": "execute_result"
    }
   ],
   "source": [
    "import importlib\n",
    "importlib.reload(pysad.exploration)\n",
    "importlib.reload(pysad.synthesis)\n",
    "importlib.reload(test_module)"
   ]
  },
  {
   "cell_type": "code",
   "execution_count": 8,
   "metadata": {},
   "outputs": [],
   "source": [
    "data_path = '../synthesis/'\n"
   ]
  },
  {
   "cell_type": "code",
   "execution_count": null,
   "metadata": {},
   "outputs": [],
   "source": []
  },
  {
   "cell_type": "code",
   "execution_count": 9,
   "metadata": {},
   "outputs": [],
   "source": [
    "graph_type = 'real'\n",
    "if graph_type == 'BA':\n",
    "    graphname = 'Barabasi-Albert'\n",
    "    nodes = 50000\n",
    "    edges_per_node = 5\n",
    "    G = nx.barabasi_albert_graph(nodes, edges_per_node)\n",
    "elif graph_type == 'ER':\n",
    "    graphname = 'Erdos-Renyi'\n",
    "    nb_nodes = 50000\n",
    "    nb_edges = 200000\n",
    "    G = nx.gnm_random_graph(nb_nodes, nb_edges)\n",
    "elif graph_type == 'real':\n",
    "    graphname = 'Real network'\n",
    "    reader = GraphReader(\"facebook\")\n",
    "    G = reader.get_graph()\n",
    "else:\n",
    "    raise ValueError('Unknow graph type.')\n",
    "graph_handle = pysad.synthesis.SyntheticNetwork(G)\n",
    "G.graph['name'] = graphname"
   ]
  },
  {
   "cell_type": "code",
   "execution_count": 10,
   "metadata": {},
   "outputs": [
    {
     "name": "stdout",
     "output_type": "stream",
     "text": [
      "Graph info\n",
      "----------\n",
      "graph type: Real network\n",
      "nb of nodes: 22470 , nb of edges: 171002\n"
     ]
    }
   ],
   "source": [
    "print('Graph info')\n",
    "print('----------')\n",
    "print('graph type:',G.graph['name'])\n",
    "print('nb of nodes:',G.number_of_nodes(),', nb of edges:',G.number_of_edges())\n",
    "# print('Diameter:', nx.diameter(G))"
   ]
  },
  {
   "cell_type": "markdown",
   "metadata": {},
   "source": [
    "## Statistics of propagation"
   ]
  },
  {
   "cell_type": "code",
   "execution_count": 11,
   "metadata": {},
   "outputs": [
    {
     "data": {
      "text/plain": [
       "<module 'pysad.synthesis' from '../pysad/pysad/synthesis.py'>"
      ]
     },
     "execution_count": 11,
     "metadata": {},
     "output_type": "execute_result"
    }
   ],
   "source": [
    "import numpy as np\n",
    "import importlib\n",
    "importlib.reload(pysad.exploration)\n",
    "importlib.reload(pysad.synthesis)"
   ]
  },
  {
   "cell_type": "code",
   "execution_count": 12,
   "metadata": {
    "scrolled": true
   },
   "outputs": [
    {
     "name": "stdout",
     "output_type": "stream",
     "text": [
      "-- experiment 0 --\n",
      "Initial node 17804\n",
      "new edges: 22 subset: 2\n",
      "new edges: 97 subset: 10\n",
      "new edges: 687 subset: 69\n",
      "new edges: 2659 subset: 266\n",
      "new edges: 7430 subset: 743\n",
      "new edges: 19023 subset: 1902\n",
      "new edges: 33164 subset: 3316\n",
      "-- experiment 1 --\n",
      "Initial node 3690\n",
      "new edges: 11 subset: 10\n",
      "new edges: 94 subset: 9\n",
      "new edges: 260 subset: 26\n",
      "new edges: 1270 subset: 127\n",
      "new edges: 7633 subset: 763\n",
      "new edges: 22252 subset: 2225\n",
      "new edges: 16683 subset: 1668\n",
      "-- experiment 2 --\n",
      "Initial node 7539\n",
      "new edges: 1 subset: 1\n",
      "new edges: 89 subset: 9\n",
      "new edges: 312 subset: 31\n",
      "new edges: 1645 subset: 164\n",
      "new edges: 6263 subset: 626\n",
      "new edges: 18881 subset: 1888\n",
      "new edges: 31714 subset: 3171\n",
      "-- experiment 3 --\n",
      "Initial node 6153\n",
      "new edges: 2 subset: 2\n",
      "new edges: 73 subset: 7\n",
      "new edges: 557 subset: 56\n",
      "new edges: 3211 subset: 321\n",
      "new edges: 7997 subset: 800\n",
      "new edges: 16085 subset: 1608\n",
      "new edges: 30026 subset: 3003\n",
      "-- experiment 4 --\n",
      "Initial node 19122\n",
      "new edges: 2 subset: 2\n",
      "new edges: 21 subset: 2\n",
      "new edges: 141 subset: 14\n",
      "new edges: 281 subset: 28\n",
      "new edges: 2379 subset: 238\n",
      "new edges: 11645 subset: 1164\n",
      "new edges: 21197 subset: 2120\n",
      "-- experiment 5 --\n",
      "Initial node 11357\n",
      "new edges: 2 subset: 2\n",
      "new edges: 12 subset: 10\n",
      "new edges: 62 subset: 6\n",
      "new edges: 66 subset: 7\n",
      "new edges: 131 subset: 13\n",
      "new edges: 243 subset: 24\n",
      "new edges: 506 subset: 51\n",
      "-- experiment 6 --\n",
      "Initial node 1538\n",
      "new edges: 6 subset: 6\n",
      "new edges: 156 subset: 16\n",
      "new edges: 325 subset: 32\n",
      "new edges: 853 subset: 85\n",
      "new edges: 1510 subset: 151\n",
      "new edges: 4626 subset: 463\n",
      "new edges: 13675 subset: 1368\n",
      "-- experiment 7 --\n",
      "Initial node 17302\n",
      "new edges: 1 subset: 1\n",
      "new edges: 1 subset: 1\n",
      "new edges: 37 subset: 4\n",
      "new edges: 160 subset: 16\n",
      "new edges: 588 subset: 59\n",
      "new edges: 1311 subset: 131\n",
      "new edges: 5819 subset: 582\n",
      "-- experiment 8 --\n",
      "Initial node 12668\n",
      "new edges: 2 subset: 2\n",
      "new edges: 17 subset: 2\n",
      "new edges: 15 subset: 2\n",
      "new edges: 9 subset: 9\n",
      "new edges: 57 subset: 6\n",
      "new edges: 129 subset: 13\n",
      "new edges: 107 subset: 11\n",
      "-- experiment 9 --\n",
      "Initial node 6412\n",
      "new edges: 4 subset: 4\n",
      "new edges: 17 subset: 2\n",
      "new edges: 4 subset: 4\n",
      "new edges: 29 subset: 3\n",
      "new edges: 58 subset: 6\n",
      "new edges: 6 subset: 6\n",
      "new edges: 35 subset: 4\n"
     ]
    }
   ],
   "source": [
    "graph_handle.rules['min_degree'] = 1\n",
    "params = {'nb_iter' : 10, 'exploration_depth' : 7,\n",
    "            'initial_node' : None, 'random_subset_size' : 0.1, 'balltype' : 'spikyball'}\n",
    "node_spiky = test_module.ball_test(graph_handle,params)\n",
    "# dictionary with each node as key and its degree as value\n",
    "degree_spiky = dict(G.degree(node_spiky.keys()))"
   ]
  },
  {
   "cell_type": "code",
   "execution_count": 13,
   "metadata": {
    "scrolled": true
   },
   "outputs": [
    {
     "name": "stdout",
     "output_type": "stream",
     "text": [
      "-- experiment 0 --\n",
      "Initial node 16066\n",
      "new edges: 6 subset: 6\n",
      "new edges: 11 subset: 10\n",
      "new edges: 42 subset: 4\n",
      "new edges: 99 subset: 10\n",
      "new edges: 708 subset: 71\n",
      "new edges: 4717 subset: 472\n",
      "new edges: 17630 subset: 1763\n",
      "-- experiment 1 --\n",
      "Initial node 16132\n",
      "new edges: 3 subset: 3\n",
      "new edges: 29 subset: 3\n",
      "new edges: 20 subset: 2\n",
      "new edges: 9 subset: 9\n",
      "new edges: 48 subset: 5\n",
      "new edges: 21 subset: 2\n",
      "new edges: 5 subset: 5\n",
      "-- experiment 2 --\n",
      "Initial node 9284\n",
      "new edges: 66 subset: 7\n",
      "new edges: 651 subset: 65\n",
      "new edges: 6226 subset: 623\n",
      "new edges: 17305 subset: 1730\n",
      "new edges: 14293 subset: 1429\n",
      "new edges: 11960 subset: 1196\n",
      "new edges: 13909 subset: 1391\n",
      "-- experiment 3 --\n",
      "Initial node 5533\n",
      "new edges: 1 subset: 1\n",
      "new edges: 6 subset: 6\n",
      "new edges: 128 subset: 13\n",
      "new edges: 291 subset: 29\n",
      "new edges: 517 subset: 52\n",
      "new edges: 1657 subset: 166\n",
      "new edges: 3994 subset: 399\n",
      "-- experiment 4 --\n",
      "Initial node 15634\n",
      "new edges: 26 subset: 3\n",
      "new edges: 8 subset: 8\n",
      "new edges: 193 subset: 19\n",
      "new edges: 429 subset: 43\n",
      "new edges: 1365 subset: 136\n",
      "new edges: 5573 subset: 557\n",
      "new edges: 12352 subset: 1235\n",
      "-- experiment 5 --\n",
      "Initial node 18019\n",
      "new edges: 2 subset: 2\n",
      "new edges: 135 subset: 14\n",
      "new edges: 216 subset: 22\n",
      "new edges: 475 subset: 48\n",
      "new edges: 1163 subset: 116\n",
      "new edges: 1520 subset: 152\n",
      "new edges: 1591 subset: 159\n",
      "-- experiment 6 --\n",
      "Initial node 729\n",
      "new edges: 70 subset: 7\n",
      "new edges: 238 subset: 24\n",
      "new edges: 996 subset: 100\n",
      "new edges: 3010 subset: 301\n",
      "new edges: 8134 subset: 813\n",
      "new edges: 18969 subset: 1897\n",
      "new edges: 29233 subset: 2923\n",
      "-- experiment 7 --\n",
      "Initial node 15367\n",
      "new edges: 12 subset: 10\n",
      "new edges: 264 subset: 26\n",
      "new edges: 788 subset: 79\n",
      "new edges: 2205 subset: 220\n",
      "new edges: 6626 subset: 663\n",
      "new edges: 14700 subset: 1470\n",
      "new edges: 23367 subset: 2337\n",
      "-- experiment 8 --\n",
      "Initial node 13137\n",
      "new edges: 4 subset: 4\n",
      "new edges: 77 subset: 8\n",
      "new edges: 49 subset: 5\n",
      "new edges: 20 subset: 2\n",
      "new edges: 31 subset: 3\n",
      "new edges: 84 subset: 8\n",
      "new edges: 95 subset: 10\n",
      "-- experiment 9 --\n",
      "Initial node 6235\n",
      "new edges: 7 subset: 7\n",
      "new edges: 48 subset: 5\n",
      "new edges: 425 subset: 42\n",
      "new edges: 1664 subset: 166\n",
      "new edges: 6481 subset: 648\n",
      "new edges: 19174 subset: 1917\n",
      "new edges: 30706 subset: 3071\n"
     ]
    }
   ],
   "source": [
    "graph_handle.rules['min_degree'] = 1\n",
    "params = {'nb_iter' : 10, 'exploration_depth' : 7,\n",
    "            'initial_node' : None, 'random_subset_size' : 0.1, 'balltype' : 'fireball'}\n",
    "node_fire = test_module.ball_test(graph_handle,params)\n",
    "# dictionary with each node as key and its degree as value\n",
    "degree_fire = dict(G.degree(node_fire.keys()))"
   ]
  },
  {
   "cell_type": "code",
   "execution_count": 14,
   "metadata": {},
   "outputs": [
    {
     "name": "stdout",
     "output_type": "stream",
     "text": [
      "-- experiment 0 --\n",
      "Initial node 10443\n",
      "new edges: 21 subset: 21\n",
      "new edges: 157 subset: 157\n",
      "new edges: 2805 subset: 2805\n",
      "new edges: 21876 subset: 21876\n",
      "-- experiment 1 --\n",
      "Initial node 19225\n",
      "new edges: 41 subset: 41\n",
      "new edges: 1284 subset: 1284\n",
      "new edges: 5913 subset: 5913\n",
      "new edges: 33871 subset: 33871\n",
      "-- experiment 2 --\n",
      "Initial node 18897\n",
      "new edges: 5 subset: 5\n",
      "new edges: 88 subset: 88\n",
      "new edges: 299 subset: 299\n",
      "new edges: 15838 subset: 15838\n",
      "-- experiment 3 --\n",
      "Initial node 3905\n",
      "new edges: 23 subset: 23\n",
      "new edges: 86 subset: 86\n",
      "new edges: 1241 subset: 1241\n",
      "new edges: 17560 subset: 17560\n",
      "-- experiment 4 --\n",
      "Initial node 6916\n",
      "new edges: 27 subset: 27\n",
      "new edges: 1692 subset: 1692\n",
      "new edges: 27384 subset: 27384\n",
      "new edges: 33788 subset: 33788\n",
      "-- experiment 5 --\n",
      "Initial node 13160\n",
      "new edges: 1 subset: 1\n",
      "new edges: 8 subset: 8\n",
      "new edges: 119 subset: 119\n",
      "new edges: 1741 subset: 1741\n",
      "-- experiment 6 --\n",
      "Initial node 9100\n",
      "new edges: 2 subset: 2\n",
      "new edges: 138 subset: 138\n",
      "new edges: 2090 subset: 2090\n",
      "new edges: 16861 subset: 16861\n",
      "-- experiment 7 --\n",
      "Initial node 14306\n",
      "new edges: 6 subset: 6\n",
      "new edges: 309 subset: 309\n",
      "new edges: 8704 subset: 8704\n",
      "new edges: 33219 subset: 33219\n",
      "-- experiment 8 --\n",
      "Initial node 17619\n",
      "new edges: 3 subset: 3\n",
      "new edges: 195 subset: 195\n",
      "new edges: 1807 subset: 1807\n",
      "new edges: 32621 subset: 32621\n",
      "-- experiment 9 --\n",
      "Initial node 11884\n",
      "new edges: 9 subset: 9\n",
      "new edges: 175 subset: 175\n",
      "new edges: 1756 subset: 1756\n",
      "new edges: 16745 subset: 16745\n"
     ]
    }
   ],
   "source": [
    "graph_handle.rules['min_degree'] = 1\n",
    "params_snowball = {'nb_iter' : 10, 'exploration_depth' : 4,\n",
    "            'initial_node' : None, 'random_subset_size' : 1, 'balltype' : 'spikyball'}\n",
    "node_snowball = test_module.ball_test(graph_handle,params_snowball)\n",
    "# dictionary with each node as key and its degree as value\n",
    "degree_snowball = dict(G.degree(node_snowball.keys()))"
   ]
  },
  {
   "cell_type": "markdown",
   "metadata": {},
   "source": [
    "## Degree distribution"
   ]
  },
  {
   "cell_type": "code",
   "execution_count": 22,
   "metadata": {},
   "outputs": [
    {
     "name": "stderr",
     "output_type": "stream",
     "text": [
      "/home/benjamin/Documents/EPFL/Research/sad/spiky-simulation/test_module.py:63: RuntimeWarning: invalid value encountered in true_divide\n",
      "  np.histogram(list(counter_dict.keys()),bins)[0])\n",
      "/home/benjamin/Documents/EPFL/Research/sad/spiky-simulation/test_module.py:65: RuntimeWarning: invalid value encountered in true_divide\n",
      "  np.histogram(list(counter_dict.keys()),bins)[0])\n"
     ]
    },
    {
     "data": {
      "image/png": "[encoded data removed]",
      "text/plain": [
       "<Figure size 432x288 with 1 Axes>"
      ]
     },
     "metadata": {},
     "output_type": "display_data"
    }
   ],
   "source": [
    "dlist_spiky = test_module.expand_degrees(node_spiky, degree_spiky)\n",
    "dlist_snow = test_module.expand_degrees(node_snowball, degree_snowball)\n",
    "dlist_fire = test_module.expand_degrees(node_fire, degree_fire)\n",
    "\n",
    "density=False\n",
    "\n",
    "import matplotlib.pyplot as plt\n",
    "%matplotlib inline\n",
    "plt.xscale('log')\n",
    "plt.yscale('log')\n",
    "#lin_x,lin_y = test_module.degree_distribution(dlist_spiky, mode='lin')\n",
    "#plt.scatter(lin_x,lin_y,c='r',marker='x',s=10)\n",
    "log_x,log_y = test_module.degree_distribution(dlist_spiky, mode='log',density=density)\n",
    "plt.scatter(log_x,log_y,c='r',marker='.',s=100,label='spiky')\n",
    "\n",
    "#lin_x,lin_y = test_module.degree_distribution(dlist_snow, mode='lin')\n",
    "#plt.scatter(lin_x,lin_y,c='b',marker='x',s=10)\n",
    "log_x,log_y = test_module.degree_distribution(dlist_snow, mode='log',density=density)\n",
    "plt.scatter(log_x,log_y,c='b',marker='.',s=100,label='snowy')\n",
    "\n",
    "log_x,log_y = test_module.degree_distribution(dlist_fire, mode='log',density=density)\n",
    "plt.scatter(log_x,log_y,c='k',marker='.',s=100,label='fire')\n",
    "#plt.xlim((1e-4,1e-1))\n",
    "#plt.ylim((.9,1e4))\n",
    "plt.xlabel('Degree')\n",
    "plt.ylabel('Nb of nodes')\n",
    "plt.title('Degree distribution of sampled graphs\\n from a '+G.graph['name']+' graph')\n",
    "plt.legend()\n",
    "plt.savefig(data_path + \"degree_distrib.png\")"
   ]
  },
  {
   "cell_type": "code",
   "execution_count": 21,
   "metadata": {},
   "outputs": [
    {
     "name": "stderr",
     "output_type": "stream",
     "text": [
      "/home/benjamin/Documents/EPFL/Research/sad/spiky-simulation/test_module.py:63: RuntimeWarning: invalid value encountered in true_divide\n",
      "  np.histogram(list(counter_dict.keys()),bins)[0])\n",
      "/home/benjamin/Documents/EPFL/Research/sad/spiky-simulation/test_module.py:65: RuntimeWarning: invalid value encountered in true_divide\n",
      "  np.histogram(list(counter_dict.keys()),bins)[0])\n"
     ]
    },
    {
     "data": {
      "image/png": "[encoded data removed]",
      "text/plain": [
       "<Figure size 432x288 with 1 Axes>"
      ]
     },
     "metadata": {},
     "output_type": "display_data"
    }
   ],
   "source": [
    "\n",
    "density=True\n",
    "\n",
    "import matplotlib.pyplot as plt\n",
    "%matplotlib inline\n",
    "plt.xscale('log')\n",
    "plt.yscale('log')\n",
    "lin_x,lin_y = test_module.degree_distribution(dlist_spiky, mode='lin')\n",
    "#plt.scatter(lin_x,lin_y,c='r',marker='x',s=10)\n",
    "log_x,log_y = test_module.degree_distribution(dlist_spiky, mode='log',density=density)\n",
    "plt.scatter(log_x,log_y,c='r',marker='.',s=100,label='spiky')\n",
    "\n",
    "lin_x,lin_y = test_module.degree_distribution(dlist_snow, mode='lin')\n",
    "#plt.scatter(lin_x,lin_y,c='b',marker='x',s=10)\n",
    "log_x,log_y = test_module.degree_distribution(dlist_snow, mode='log',density=density)\n",
    "plt.scatter(log_x,log_y,c='b',marker='.',s=100,label='snowy')\n",
    "\n",
    "log_x,log_y = test_module.degree_distribution(dlist_fire, mode='log',density=density)\n",
    "plt.scatter(log_x,log_y,c='k',marker='.',s=100,label='fire')\n",
    "#plt.xlim((1e-4,1e-1))\n",
    "#plt.ylim((.9,1e4))\n",
    "plt.xlabel('Degree')\n",
    "plt.ylabel('Nb of nodes')\n",
    "plt.title('Degree distribution of sampled graphs\\n from a '+G.graph['name']+' graph')\n",
    "plt.legend()\n",
    "plt.savefig(data_path + \"degree_distrib_density.png\")"
   ]
  },
  {
   "cell_type": "code",
   "execution_count": null,
   "metadata": {},
   "outputs": [],
   "source": []
  }
 ],
 "metadata": {
  "kernelspec": {
   "display_name": "Python 3",
   "language": "python",
   "name": "python3"
  },
  "language_info": {
   "codemirror_mode": {
    "name": "ipython",
    "version": 3
   },
   "file_extension": ".py",
   "mimetype": "text/x-python",
   "name": "python",
   "nbconvert_exporter": "python",
   "pygments_lexer": "ipython3",
   "version": "3.6.9"
  }
 },
 "nbformat": 4,
 "nbformat_minor": 4
}
