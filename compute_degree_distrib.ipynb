{
 "cells": [
  {
   "cell_type": "code",
   "execution_count": 2,
   "metadata": {},
   "outputs": [],
   "source": [
    "#import pandas as pd\n",
    "#import json\n",
    "import networkx as nx"
   ]
  },
  {
   "cell_type": "code",
   "execution_count": 3,
   "metadata": {
    "scrolled": true
   },
   "outputs": [],
   "source": [
    "import sys\n",
    "sys.path.append(\"../pysad\")\n",
    "#import pysad\n",
    "#import pysad.utils\n",
    "import pysad.exploration\n",
    "import pysad.synthesis\n",
    "import pysad.graph\n",
    "from pysad.NodeInfo import SynthNodeInfo"
   ]
  },
  {
   "cell_type": "code",
   "execution_count": 4,
   "metadata": {},
   "outputs": [],
   "source": [
    "sys.path.append(\"../littleballoffur\")"
   ]
  },
  {
   "cell_type": "code",
   "execution_count": 5,
   "metadata": {},
   "outputs": [],
   "source": [
    "from littleballoffur.dataset import GraphReader"
   ]
  },
  {
   "cell_type": "code",
   "execution_count": 6,
   "metadata": {},
   "outputs": [],
   "source": [
    "import test_module"
   ]
  },
  {
   "cell_type": "markdown",
   "metadata": {},
   "source": [
    "# Creating the graph"
   ]
  },
  {
   "cell_type": "code",
   "execution_count": 360,
   "metadata": {
    "scrolled": true
   },
   "outputs": [
    {
     "data": {
      "text/plain": [
       "<module 'test_module' from '/home/benjamin/Documents/EPFL/Research/sad/spiky-simulation/test_module.py'>"
      ]
     },
     "execution_count": 360,
     "metadata": {},
     "output_type": "execute_result"
    }
   ],
   "source": [
    "import importlib\n",
    "importlib.reload(pysad.exploration)\n",
    "importlib.reload(pysad.synthesis)\n",
    "importlib.reload(test_module)"
   ]
  },
  {
   "cell_type": "code",
   "execution_count": 8,
   "metadata": {},
   "outputs": [],
   "source": [
    "data_path = '../synthesis/'\n"
   ]
  },
  {
   "cell_type": "code",
   "execution_count": null,
   "metadata": {},
   "outputs": [],
   "source": []
  },
  {
   "cell_type": "code",
   "execution_count": 326,
   "metadata": {},
   "outputs": [],
   "source": [
    "graph_type = 'real'\n",
    "if graph_type == 'BA':\n",
    "    graphname = 'Barabasi-Albert graph'\n",
    "    nodes = 50000\n",
    "    edges_per_node = 5\n",
    "    G = nx.barabasi_albert_graph(nodes, edges_per_node)\n",
    "elif graph_type == 'ER':\n",
    "    graphname = 'Erdos-Renyi graph'\n",
    "    nb_nodes = 50000\n",
    "    nb_edges = 200000\n",
    "    G = nx.gnm_random_graph(nb_nodes, nb_edges)\n",
    "elif graph_type == 'real':\n",
    "    graphname = 'real network (Facebook)'\n",
    "    reader = GraphReader(\"facebook\")\n",
    "    G = reader.get_graph()\n",
    "else:\n",
    "    raise ValueError('Unknow graph type.')\n",
    "graph_handle = pysad.synthesis.SyntheticNetwork(G)\n",
    "G.graph['name'] = graphname"
   ]
  },
  {
   "cell_type": "code",
   "execution_count": 10,
   "metadata": {},
   "outputs": [
    {
     "name": "stdout",
     "output_type": "stream",
     "text": [
      "Graph info\n",
      "----------\n",
      "graph type: Real network\n",
      "nb of nodes: 22470 , nb of edges: 171002\n"
     ]
    }
   ],
   "source": [
    "print('Graph info')\n",
    "print('----------')\n",
    "print('graph type:',G.graph['name'])\n",
    "print('nb of nodes:',G.number_of_nodes(),', nb of edges:',G.number_of_edges())\n",
    "# print('Diameter:', nx.diameter(G))"
   ]
  },
  {
   "cell_type": "markdown",
   "metadata": {},
   "source": [
    "## Statistics of propagation"
   ]
  },
  {
   "cell_type": "code",
   "execution_count": 367,
   "metadata": {},
   "outputs": [
    {
     "data": {
      "text/plain": [
       "<module 'pysad.synthesis' from '../pysad/pysad/synthesis.py'>"
      ]
     },
     "execution_count": 367,
     "metadata": {},
     "output_type": "execute_result"
    }
   ],
   "source": [
    "import numpy as np\n",
    "import importlib\n",
    "importlib.reload(pysad.exploration)\n",
    "importlib.reload(pysad.synthesis)"
   ]
  },
  {
   "cell_type": "code",
   "execution_count": 361,
   "metadata": {},
   "outputs": [
    {
     "name": "stdout",
     "output_type": "stream",
     "text": [
      "Number of nodes chosen for the subgraph: 4494\n"
     ]
    }
   ],
   "source": [
    "number_of_nodes = int(0.2*G.number_of_nodes())\n",
    "print('Number of nodes chosen for the subgraph:', number_of_nodes)"
   ]
  },
  {
   "cell_type": "code",
   "execution_count": 362,
   "metadata": {
    "scrolled": true
   },
   "outputs": [
    {
     "name": "stdout",
     "output_type": "stream",
     "text": [
      "-- experiment 0 --\n",
      "Initial node 4290\n",
      "new edges: 12 subset: 4 in_edges: 0\n",
      "new edges: 90 subset: 27 in_edges: 6\n",
      "new edges: 1787 subset: 536 in_edges: 55\n",
      "new edges: 20340 subset: 6102 in_edges: 10460\n",
      "new edges: 23410 subset: 7023 in_edges: 56427\n",
      "max nb of nodes reached in iteration 5\n",
      "new edges: 26076 subset: 7823 in_edges: 23635\n",
      "subgraph: nb of nodes: 4494 , edges: 60865\n"
     ]
    }
   ],
   "source": [
    "graph_handle.rules['min_degree'] = 1\n",
    "params = {'nb_iter' : 1, 'exploration_depth' : 8,\n",
    "            'initial_node' : None, 'random_subset_size' : 0.3, 'balltype' : 'spikyball',\n",
    "         'number_of_nodes' : number_of_nodes}\n",
    "node_spiky,graph_spiky = test_module.ball_test(graph_handle,params)\n",
    "# dictionary with each node as key and its degree as value\n",
    "degree_spiky = dict(graph_spiky.degree()) #G.degree(node_spiky.keys()))\n",
    "print('subgraph: nb of nodes:',graph_spiky.number_of_nodes(),', edges:',graph_spiky.number_of_edges())"
   ]
  },
  {
   "cell_type": "code",
   "execution_count": 366,
   "metadata": {
    "scrolled": true
   },
   "outputs": [
    {
     "name": "stdout",
     "output_type": "stream",
     "text": [
      "-- experiment 0 --\n",
      "Initial node 4080\n",
      "new edges: 2 subset: 2 in_edges: 0\n",
      "new edges: 16 subset: 5 in_edges: 2\n",
      "new edges: 554 subset: 166 in_edges: 13\n",
      "new edges: 4294 subset: 1288 in_edges: 382\n",
      "new edges: 29005 subset: 8702 in_edges: 11946\n",
      "max nb of nodes reached in iteration 5\n",
      "new edges: 43258 subset: 12977 in_edges: 54454\n",
      "subgraph: nb of nodes: 4494 , edges: 43710\n"
     ]
    }
   ],
   "source": [
    "graph_handle.rules['min_degree'] = 1\n",
    "params = {'nb_iter' : 1, 'exploration_depth' : 6,\n",
    "            'initial_node' : None, 'random_subset_size' : 0.3, 'balltype' : 'fireball',\n",
    "         'number_of_nodes' : number_of_nodes}\n",
    "node_fire, graph_fire = test_module.ball_test(graph_handle,params)\n",
    "# dictionary with each node as key and its degree as value\n",
    "degree_fire = dict(graph_fire.degree()) #dict(G.degree(node_fire.keys()))\n",
    "#print('subgraph: nb of nodes:',len(degree_fire))\n",
    "print('subgraph: nb of nodes:',graph_fire.number_of_nodes(),', edges:',graph_fire.number_of_edges())"
   ]
  },
  {
   "cell_type": "code",
   "execution_count": 368,
   "metadata": {},
   "outputs": [
    {
     "name": "stdout",
     "output_type": "stream",
     "text": [
      "-- experiment 0 --\n",
      "Initial node 10240\n",
      "new edges: 15 subset: 15 in_edges: 0\n",
      "new edges: 1259 subset: 1259 in_edges: 57\n",
      "new edges: 23858 subset: 23858 in_edges: 21967\n",
      "-- max nb of nodes reached in iteration 3 --\n",
      "new edges: 28799 subset: 28799 in_edges: 77151\n",
      "subgraph: nb of nodes: 4494\n"
     ]
    }
   ],
   "source": [
    "graph_handle.rules['min_degree'] = 1\n",
    "params_snowball = {'nb_iter' : 1, 'exploration_depth' : 6,\n",
    "            'initial_node' : None, 'random_subset_size' : 1, 'balltype' : 'spikyball',\n",
    "         'number_of_nodes' : number_of_nodes}\n",
    "node_snowball, graph_snowball = test_module.ball_test(graph_handle,params_snowball)\n",
    "# dictionary with each node as key and its degree as value\n",
    "degree_snowball = dict(graph_snowball.degree()) #dict(G.degree(node_snowball.keys()))\n",
    "print('subgraph: nb of nodes:',len(degree_snowball))"
   ]
  },
  {
   "cell_type": "code",
   "execution_count": 369,
   "metadata": {},
   "outputs": [],
   "source": [
    "from littleballoffur import MetropolisHastingsRandomWalkSampler, ForestFireSampler, SnowBallSampler\n",
    "\n",
    "sampler = MetropolisHastingsRandomWalkSampler(number_of_nodes = number_of_nodes)\n",
    "new_graph = sampler.sample(G)\n",
    "\n",
    "sampler = ForestFireSampler(number_of_nodes = number_of_nodes, p=0.2)\n",
    "fire_graph = sampler.sample(G)\n",
    "\n",
    "\n",
    "sampler = SnowBallSampler(number_of_nodes = number_of_nodes)\n",
    "snow_graph = sampler.sample(G)\n"
   ]
  },
  {
   "cell_type": "code",
   "execution_count": 370,
   "metadata": {},
   "outputs": [],
   "source": [
    "dlist_metro = dict(new_graph.degree()).values()\n",
    "dlist_lbof_fire = dict(fire_graph.degree()).values()\n",
    "dlist_lbof_snow = dict(snow_graph.degree()).values()\n",
    "dlist_full_graph = dict(G.degree()).values()"
   ]
  },
  {
   "cell_type": "markdown",
   "metadata": {},
   "source": [
    "## Degree distribution"
   ]
  },
  {
   "cell_type": "code",
   "execution_count": 371,
   "metadata": {},
   "outputs": [],
   "source": [
    "import seaborn as sns\n",
    "import matplotlib.pyplot as plt\n",
    "plt.style.use('seaborn-whitegrid')\n",
    "sns.set_context(\"paper\", font_scale=1.5)"
   ]
  },
  {
   "cell_type": "code",
   "execution_count": 372,
   "metadata": {},
   "outputs": [
    {
     "name": "stderr",
     "output_type": "stream",
     "text": [
      "/home/benjamin/Documents/EPFL/Research/sad/spiky-simulation/test_module.py:65: RuntimeWarning: invalid value encountered in true_divide\n",
      "  bin_means_x = (np.histogram(list(counter_dict.keys()),bins,weights=list(counter_dict.keys()))[0] /\n",
      "/home/benjamin/Documents/EPFL/Research/sad/spiky-simulation/test_module.py:67: RuntimeWarning: invalid value encountered in true_divide\n",
      "  \n",
      "/usr/local/lib/python3.6/dist-packages/matplotlib/cbook/__init__.py:2446: UserWarning: Saw kwargs ['c', 'color'] which are all aliases for 'color'.  Kept value from 'color'\n",
      "  seen=seen, canon=canonical, used=seen[-1]))\n"
     ]
    },
    {
     "data": {
      "image/png": "[encoded data removed]",
      "text/plain": [
       "<Figure size 360x360 with 1 Axes>"
      ]
     },
     "metadata": {},
     "output_type": "display_data"
    }
   ],
   "source": [
    "dlist_spiky = test_module.expand_degrees(node_spiky, degree_spiky)\n",
    "dlist_snow = test_module.expand_degrees(node_snowball, degree_snowball)\n",
    "dlist_fire = test_module.expand_degrees(node_fire, degree_fire)\n",
    "\n",
    "density=False\n",
    "\n",
    "import matplotlib.pyplot as plt\n",
    "%matplotlib inline\n",
    "\n",
    "plt.figure(figsize=(5,5))\n",
    "plt.xscale('log')\n",
    "plt.yscale('log')\n",
    "#lin_x,lin_y = test_module.degree_distribution(dlist_spiky, mode='lin')\n",
    "#plt.scatter(lin_x,lin_y,c='r',marker='x',s=10)\n",
    "\n",
    "log_x,log_y = test_module.degree_distribution(dlist_full_graph, mode='log',density=density)\n",
    "sns.lineplot(log_x,log_y,c='c',marker='D',label='Initial graph')\n",
    "\n",
    "log_x,log_y = test_module.degree_distribution(dlist_spiky, mode='log',density=density)\n",
    "sns.lineplot(log_x,log_y,c='r',marker='o',label='Spiky')\n",
    "\n",
    "#lin_x,lin_y = test_module.degree_distribution(dlist_snow, mode='lin')\n",
    "#plt.scatter(lin_x,lin_y,c='b',marker='x',s=10)\n",
    "log_x,log_y = test_module.degree_distribution(dlist_snow, mode='log',density=density)\n",
    "sns.lineplot(log_x,log_y,c='b',marker='o',label='Snow')\n",
    "\n",
    "#log_x,log_y = test_module.degree_distribution(dlist_lbof_snow, mode='log',density=density)\n",
    "#sns.lineplot(log_x,log_y,c='b',marker='s',label='Snow lbol')\n",
    "\n",
    "log_x,log_y = test_module.degree_distribution(dlist_fire, mode='log',density=density)\n",
    "sns.lineplot(log_x,log_y,c='k',marker='o',label='Fire')\n",
    "\n",
    "log_x,log_y = test_module.degree_distribution(dlist_lbof_fire, mode='log',density=density)\n",
    "sns.lineplot(log_x,log_y,c='k',marker='s',label='Forest fire lbof')\n",
    "\n",
    "log_x,log_y = test_module.degree_distribution(dlist_metro, mode='log',density=density)\n",
    "line1 = sns.lineplot(log_x,log_y,c='g',marker='s',label='Metro lbof')\n",
    "\n",
    "#line1.set_dashes([2, 2, 10, 2])\n",
    "\n",
    "#plt.xlim((1e-4,1e-1))\n",
    "#plt.ylim((.9,1e4))\n",
    "plt.xlabel('Degree')\n",
    "plt.ylabel('Nb of nodes')\n",
    "#plt.title('Degree distribution of sampled graphs\\n from a '+G.graph['name'])\n",
    "plt.legend()\n",
    "plt.savefig(data_path + 'degree_distrib'+ graph_type +'.png')"
   ]
  },
  {
   "cell_type": "code",
   "execution_count": 373,
   "metadata": {},
   "outputs": [
    {
     "name": "stderr",
     "output_type": "stream",
     "text": [
      "/home/benjamin/Documents/EPFL/Research/sad/spiky-simulation/test_module.py:65: RuntimeWarning: invalid value encountered in true_divide\n",
      "  bin_means_x = (np.histogram(list(counter_dict.keys()),bins,weights=list(counter_dict.keys()))[0] /\n",
      "/home/benjamin/Documents/EPFL/Research/sad/spiky-simulation/test_module.py:67: RuntimeWarning: invalid value encountered in true_divide\n",
      "  \n",
      "/usr/local/lib/python3.6/dist-packages/matplotlib/cbook/__init__.py:2446: UserWarning: Saw kwargs ['c', 'color'] which are all aliases for 'color'.  Kept value from 'color'\n",
      "  seen=seen, canon=canonical, used=seen[-1]))\n"
     ]
    },
    {
     "data": {
      "image/png": "[encoded data removed]",
      "text/plain": [
       "<Figure size 360x360 with 1 Axes>"
      ]
     },
     "metadata": {},
     "output_type": "display_data"
    }
   ],
   "source": [
    "\n",
    "density=True\n",
    "\n",
    "import matplotlib.pyplot as plt\n",
    "%matplotlib inline\n",
    "\n",
    "plt.figure(figsize=(5,5))\n",
    "plt.xscale('log')\n",
    "plt.yscale('log')\n",
    "\n",
    "#lin_x,lin_y = test_module.degree_distribution(dlist_spiky, mode='lin')\n",
    "#plt.scatter(lin_x,lin_y,c='r',marker='x',s=10)\n",
    "\n",
    "log_x,log_y = test_module.degree_distribution(dlist_full_graph, mode='log',density=density)\n",
    "sns.lineplot(log_x,log_y,c='c',marker='D',label='Initial graph')\n",
    "\n",
    "log_x,log_y = test_module.degree_distribution(dlist_spiky, mode='log',density=density)\n",
    "sns.lineplot(log_x,log_y,c='r',marker='o',label='Spiky')\n",
    "\n",
    "#lin_x,lin_y = test_module.degree_distribution(dlist_snow, mode='lin')\n",
    "#plt.scatter(lin_x,lin_y,c='b',marker='x',s=10)\n",
    "log_x,log_y = test_module.degree_distribution(dlist_snow, mode='log',density=density)\n",
    "sns.lineplot(log_x,log_y,c='b',marker='o',label='Snow')\n",
    "\n",
    "#log_x,log_y = test_module.degree_distribution(dlist_lbof_snow, mode='log',density=density)\n",
    "#sns.lineplot(log_x,log_y,c='b',marker='s',label='Snow lbol')\n",
    "\n",
    "log_x,log_y = test_module.degree_distribution(dlist_fire, mode='log',density=density)\n",
    "sns.lineplot(log_x,log_y,c='k',marker='o',label='Fire')\n",
    "\n",
    "log_x,log_y = test_module.degree_distribution(dlist_lbof_fire, mode='log',density=density)\n",
    "sns.lineplot(log_x,log_y,c='k',marker='s',label='Forest fire lbof')\n",
    "\n",
    "log_x,log_y = test_module.degree_distribution(dlist_metro, mode='log',density=density)\n",
    "sns.lineplot(log_x,log_y,c='g',marker='s',dashes=[2, 2],label='Metro lbof')\n",
    "\n",
    "#plt.xlim((1e-4,1e-1))\n",
    "#plt.ylim((.9,1e4))\n",
    "plt.xlabel('Degree')\n",
    "plt.ylabel('Node density')\n",
    "#plt.title('Degree distribution of sampled graphs\\n from a '+G.graph['name'])\n",
    "plt.legend()\n",
    "plt.savefig(data_path + 'degree_distrib_density'+ graph_type +'.png')"
   ]
  },
  {
   "cell_type": "code",
   "execution_count": null,
   "metadata": {},
   "outputs": [],
   "source": []
  },
  {
   "cell_type": "code",
   "execution_count": null,
   "metadata": {},
   "outputs": [],
   "source": []
  }
 ],
 "metadata": {
  "kernelspec": {
   "display_name": "Python 3",
   "language": "python",
   "name": "python3"
  },
  "language_info": {
   "codemirror_mode": {
    "name": "ipython",
    "version": 3
   },
   "file_extension": ".py",
   "mimetype": "text/x-python",
   "name": "python",
   "nbconvert_exporter": "python",
   "pygments_lexer": "ipython3",
   "version": "3.6.9"
  }
 },
 "nbformat": 4,
 "nbformat_minor": 4
}
