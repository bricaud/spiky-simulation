{
 "cells": [
  {
   "cell_type": "code",
   "execution_count": null,
   "metadata": {},
   "outputs": [],
   "source": [
    "import pandas as pd\n",
    "#import json\n",
    "import networkx as nx"
   ]
  },
  {
   "cell_type": "code",
   "execution_count": null,
   "metadata": {
    "scrolled": true
   },
   "outputs": [],
   "source": [
    "import pysad\n",
    "import pysad.utils\n",
    "import pysad.collect\n",
    "import pysad.synthesis"
   ]
  },
  {
   "cell_type": "markdown",
   "metadata": {},
   "source": [
    "# Creating the graph"
   ]
  },
  {
   "cell_type": "code",
   "execution_count": null,
   "metadata": {
    "scrolled": true
   },
   "outputs": [],
   "source": [
    "import importlib\n",
    "importlib.reload(pysad.collect)\n",
    "importlib.reload(pysad.synthesis)"
   ]
  },
  {
   "cell_type": "code",
   "execution_count": null,
   "metadata": {},
   "outputs": [],
   "source": [
    "data_path = '../synthesis/'\n",
    "graphname = 'Erdos-Renyi'"
   ]
  },
  {
   "cell_type": "code",
   "execution_count": null,
   "metadata": {},
   "outputs": [],
   "source": [
    "nb_nodes = 2000\n",
    "nb_edges = 10000\n",
    "G = nx.gnm_random_graph(nb_nodes, nb_edges)\n",
    "G.graph['name'] = graphname"
   ]
  },
  {
   "cell_type": "code",
   "execution_count": null,
   "metadata": {},
   "outputs": [],
   "source": [
    "graph_handle = pysad.synthesis.graph(G)"
   ]
  },
  {
   "cell_type": "code",
   "execution_count": null,
   "metadata": {},
   "outputs": [],
   "source": [
    "exploration_depth = 5 # mention of mention of mention of ... up to exploration depth"
   ]
  },
  {
   "cell_type": "code",
   "execution_count": null,
   "metadata": {},
   "outputs": [],
   "source": [
    "total_node_list, total_nodes_df, total_edges_df = pysad.collect.spiky_ball([20], \n",
    "                                                                               graph_handle, \n",
    "                                                                               exploration_depth=exploration_depth,\n",
    "                                                                               random_subset_size=0.8)"
   ]
  },
  {
   "cell_type": "code",
   "execution_count": null,
   "metadata": {},
   "outputs": [],
   "source": [
    "print('Total number of nodes in the spiky ball:',len(total_node_list))"
   ]
  },
  {
   "cell_type": "code",
   "execution_count": null,
   "metadata": {},
   "outputs": [],
   "source": [
    "import pysad.graph\n",
    "import pysad.clusters"
   ]
  },
  {
   "cell_type": "code",
   "execution_count": null,
   "metadata": {},
   "outputs": [],
   "source": [
    "node_df, edge_df = total_nodes_df, total_edges_df\n",
    "node_df = pysad.synthesis.reshape_node_data(node_df)\n",
    "edge_df = pysad.synthesis.reshape_edge_data(edge_df)"
   ]
  },
  {
   "cell_type": "markdown",
   "metadata": {},
   "source": [
    "## Creating the graph"
   ]
  },
  {
   "cell_type": "code",
   "execution_count": null,
   "metadata": {},
   "outputs": [],
   "source": [
    "import importlib\n",
    "importlib.reload(pysad.graph)\n",
    "importlib.reload(pysad.collect)"
   ]
  },
  {
   "cell_type": "code",
   "execution_count": null,
   "metadata": {},
   "outputs": [],
   "source": [
    "MIN_WEIGHT = 0\n",
    "MIN_DEGREE = 2 # Minimal number of connections in the graph\n",
    "\n",
    "Gsp = pysad.graph.graph_from_edgeslist(edge_df, MIN_WEIGHT)\n",
    "#G = pysad.graph.graph_from_edgeslist(df_pop,DEGREE_MIN)\n",
    "G = pysad.graph.add_edges_attributes(G,edge_df)\n",
    "G = pysad.graph.add_node_attributes(G,node_df)\n",
    "Gsp = pysad.graph.add_edges_attributes(Gsp,edge_df)\n",
    "Gsp = pysad.graph.add_node_attributes(Gsp,node_df)\n",
    "\n",
    "Gsp = pysad.graph.reduce_graph(Gsp,MIN_DEGREE)\n",
    "Gsp = pysad.graph.handle_spikyball_neighbors(Gsp,graph_handle,remove=False)"
   ]
  },
  {
   "cell_type": "code",
   "execution_count": null,
   "metadata": {},
   "outputs": [],
   "source": [
    "for node,data in Gsp.nodes(data=True):\n",
    "    G.nodes[node]"
   ]
  },
  {
   "cell_type": "code",
   "execution_count": null,
   "metadata": {},
   "outputs": [],
   "source": [
    "Gsp.nodes[20],G.nodes[20]"
   ]
  },
  {
   "cell_type": "code",
   "execution_count": null,
   "metadata": {},
   "outputs": [],
   "source": [
    "Gsp.number_of_nodes(),G.number_of_nodes()"
   ]
  },
  {
   "cell_type": "markdown",
   "metadata": {},
   "source": [
    "## Community detection to get the clusters"
   ]
  },
  {
   "cell_type": "code",
   "execution_count": null,
   "metadata": {},
   "outputs": [],
   "source": [
    "import importlib\n",
    "importlib.reload(pysad.clusters)\n",
    "importlib.reload(pysad.graph)"
   ]
  },
  {
   "cell_type": "code",
   "execution_count": null,
   "metadata": {},
   "outputs": [],
   "source": [
    "G,clusters = pysad.graph.detect_communities(G)\n",
    "G.nb_communities = len(clusters)\n",
    "#c_connectivity = pysad.clusters.cluster_connectivity(G)"
   ]
  },
  {
   "cell_type": "code",
   "execution_count": null,
   "metadata": {},
   "outputs": [],
   "source": [
    "G = pysad.graph.remove_small_communities(G,clusters,min_size=10)"
   ]
  },
  {
   "cell_type": "code",
   "execution_count": null,
   "metadata": {},
   "outputs": [],
   "source": [
    "# Save the graph\n",
    "import networkx as nx\n",
    "import json\n",
    "# Save as gexf file\n",
    "graphfilename = data_path + graphname + '.gexf'\n",
    "nx.write_gexf(G,graphfilename)\n",
    "print('Wrote',graphfilename)\n"
   ]
  },
  {
   "cell_type": "code",
   "execution_count": null,
   "metadata": {},
   "outputs": [],
   "source": []
  }
 ],
 "metadata": {
  "kernelspec": {
   "display_name": "Python 3",
   "language": "python",
   "name": "python3"
  },
  "language_info": {
   "codemirror_mode": {
    "name": "ipython",
    "version": 3
   },
   "file_extension": ".py",
   "mimetype": "text/x-python",
   "name": "python",
   "nbconvert_exporter": "python",
   "pygments_lexer": "ipython3",
   "version": "3.7.7"
  }
 },
 "nbformat": 4,
 "nbformat_minor": 4
}
