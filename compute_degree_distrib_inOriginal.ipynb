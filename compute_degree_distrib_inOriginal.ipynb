{
 "cells": [
  {
   "cell_type": "code",
   "execution_count": 1,
   "metadata": {},
   "outputs": [],
   "source": [
    "#import pandas as pd\n",
    "#import json\n",
    "import networkx as nx"
   ]
  },
  {
   "cell_type": "code",
   "execution_count": 2,
   "metadata": {
    "scrolled": true
   },
   "outputs": [],
   "source": [
    "import sys\n",
    "sys.path.append(\"../pysad\")\n",
    "#import pysad\n",
    "#import pysad.utils\n",
    "import pysad.exploration\n",
    "import pysad.synthesis\n",
    "import pysad.graph\n",
    "from pysad.NodeInfo import SynthNodeInfo"
   ]
  },
  {
   "cell_type": "code",
   "execution_count": 3,
   "metadata": {},
   "outputs": [],
   "source": [
    "sys.path.append(\"../littleballoffur\")"
   ]
  },
  {
   "cell_type": "code",
   "execution_count": 4,
   "metadata": {},
   "outputs": [],
   "source": [
    "from littleballoffur.dataset import GraphReader"
   ]
  },
  {
   "cell_type": "code",
   "execution_count": 5,
   "metadata": {},
   "outputs": [],
   "source": [
    "import test_module"
   ]
  },
  {
   "cell_type": "markdown",
   "metadata": {},
   "source": [
    "# Creating the graph"
   ]
  },
  {
   "cell_type": "code",
   "execution_count": 6,
   "metadata": {
    "scrolled": true
   },
   "outputs": [
    {
     "data": {
      "text/plain": [
       "<module 'test_module' from '/home/benjamin/Documents/EPFL/Research/sad/spiky-simulation/test_module.py'>"
      ]
     },
     "execution_count": 6,
     "metadata": {},
     "output_type": "execute_result"
    }
   ],
   "source": [
    "import importlib\n",
    "importlib.reload(pysad.exploration)\n",
    "importlib.reload(pysad.synthesis)\n",
    "importlib.reload(test_module)"
   ]
  },
  {
   "cell_type": "code",
   "execution_count": 7,
   "metadata": {},
   "outputs": [],
   "source": [
    "data_path = '../synthesis/'\n"
   ]
  },
  {
   "cell_type": "code",
   "execution_count": null,
   "metadata": {},
   "outputs": [],
   "source": []
  },
  {
   "cell_type": "code",
   "execution_count": 21,
   "metadata": {},
   "outputs": [],
   "source": [
    "graph_type = 'BA'\n",
    "if graph_type == 'BA':\n",
    "    graphname = 'Barabasi-Albert graph'\n",
    "    nodes = 50000\n",
    "    edges_per_node = 5\n",
    "    G = nx.barabasi_albert_graph(nodes, edges_per_node)\n",
    "elif graph_type == 'ER':\n",
    "    graphname = 'Erdos-Renyi graph'\n",
    "    nb_nodes = 50000\n",
    "    nb_edges = 500000\n",
    "    G = nx.gnm_random_graph(nb_nodes, nb_edges)\n",
    "elif graph_type == 'real':\n",
    "    graphname = 'real network (Facebook)'\n",
    "    reader = GraphReader(\"facebook\")\n",
    "    G = reader.get_graph()\n",
    "else:\n",
    "    raise ValueError('Unknow graph type.')\n",
    "graph_handle = pysad.synthesis.SyntheticNetwork(G)\n",
    "G.graph['name'] = graphname\n",
    "if not nx.is_connected(G):\n",
    "    print('Warning, the graph is not connected.')"
   ]
  },
  {
   "cell_type": "code",
   "execution_count": 22,
   "metadata": {},
   "outputs": [
    {
     "name": "stdout",
     "output_type": "stream",
     "text": [
      "Graph info\n",
      "----------\n",
      "graph type: Barabasi-Albert graph\n",
      "nb of nodes: 50000 , nb of edges: 249975\n"
     ]
    }
   ],
   "source": [
    "print('Graph info')\n",
    "print('----------')\n",
    "print('graph type:',G.graph['name'])\n",
    "print('nb of nodes:',G.number_of_nodes(),', nb of edges:',G.number_of_edges())\n",
    "# print('Diameter:', nx.diameter(G))"
   ]
  },
  {
   "cell_type": "markdown",
   "metadata": {},
   "source": [
    "## Statistics of propagation"
   ]
  },
  {
   "cell_type": "code",
   "execution_count": 23,
   "metadata": {},
   "outputs": [
    {
     "data": {
      "text/plain": [
       "<module 'pysad.synthesis' from '../pysad/pysad/synthesis.py'>"
      ]
     },
     "execution_count": 23,
     "metadata": {},
     "output_type": "execute_result"
    }
   ],
   "source": [
    "import numpy as np\n",
    "import importlib\n",
    "importlib.reload(pysad.exploration)\n",
    "importlib.reload(pysad.synthesis)"
   ]
  },
  {
   "cell_type": "code",
   "execution_count": 24,
   "metadata": {},
   "outputs": [
    {
     "name": "stdout",
     "output_type": "stream",
     "text": [
      "Number of nodes chosen for the subgraph: 10000\n"
     ]
    }
   ],
   "source": [
    "number_of_nodes = int(0.2*G.number_of_nodes())\n",
    "print('Number of nodes chosen for the subgraph:', number_of_nodes)"
   ]
  },
  {
   "cell_type": "code",
   "execution_count": 25,
   "metadata": {
    "scrolled": true
   },
   "outputs": [
    {
     "name": "stdout",
     "output_type": "stream",
     "text": [
      "-- experiment 0 --\n",
      "Initial node 15795\n",
      "new edges: 8 subset: 2 in_edges: 0\n",
      "new edges: 20 subset: 6 in_edges: 2\n",
      "new edges: 90 subset: 27 in_edges: 6\n",
      "new edges: 765 subset: 230 in_edges: 30\n",
      "new edges: 7354 subset: 2206 in_edges: 319\n",
      "new edges: 37591 subset: 11277 in_edges: 5710\n",
      "-- max nb of nodes reached in iteration 6 --\n",
      "new edges: 73451 subset: 22035 in_edges: 36246\n",
      "subgraph: nb of nodes: 10000 , edges: 30522\n"
     ]
    }
   ],
   "source": [
    "graph_handle.rules['min_degree'] = 1\n",
    "params = {'nb_iter' : 1, 'exploration_depth' : 8,\n",
    "            'initial_node' : None, 'random_subset_size' : 0.3, 'balltype' : 'spikyball',\n",
    "         'number_of_nodes' : number_of_nodes}\n",
    "node_spiky,graph_spiky = test_module.ball_test(graph_handle,params)\n",
    "# dictionary with each node as key and its degree as value\n",
    "#degree_spiky = dict(graph_spiky.degree()) \n",
    "degree_spiky = dict(G.degree(node_spiky.keys()))\n",
    "print('subgraph: nb of nodes:',graph_spiky.number_of_nodes(),', edges:',graph_spiky.number_of_edges())"
   ]
  },
  {
   "cell_type": "code",
   "execution_count": 26,
   "metadata": {
    "scrolled": true
   },
   "outputs": [
    {
     "name": "stdout",
     "output_type": "stream",
     "text": [
      "-- experiment 0 --\n",
      "Initial node 3059\n",
      "new edges: 12 subset: 4 in_edges: 0\n",
      "new edges: 702 subset: 211 in_edges: 4\n",
      "new edges: 6518 subset: 1955 in_edges: 288\n",
      "new edges: 37044 subset: 11113 in_edges: 5353\n",
      "-- max nb of nodes reached in iteration 4 --\n",
      "new edges: 75470 subset: 22641 in_edges: 38121\n",
      "subgraph: nb of nodes: 10000 , edges: 31209\n"
     ]
    }
   ],
   "source": [
    "graph_handle.rules['min_degree'] = 1\n",
    "params = {'nb_iter' : 1, 'exploration_depth' : 8,\n",
    "            'initial_node' : None, 'random_subset_size' : 0.3, 'balltype' : 'fireball',\n",
    "         'number_of_nodes' : number_of_nodes}\n",
    "node_fire, graph_fire = test_module.ball_test(graph_handle,params)\n",
    "# dictionary with each node as key and its degree as value\n",
    "#degree_fire = dict(graph_fire.degree()) \n",
    "degree_fire = dict(G.degree(node_fire.keys()))\n",
    "#print('subgraph: nb of nodes:',len(degree_fire))\n",
    "print('subgraph: nb of nodes:',graph_fire.number_of_nodes(),', edges:',graph_fire.number_of_edges())"
   ]
  },
  {
   "cell_type": "code",
   "execution_count": 27,
   "metadata": {},
   "outputs": [
    {
     "name": "stdout",
     "output_type": "stream",
     "text": [
      "-- experiment 0 --\n",
      "Initial node 25501\n",
      "new edges: 9 subset: 9 in_edges: 0\n",
      "new edges: 153 subset: 153 in_edges: 9\n",
      "new edges: 4556 subset: 4556 in_edges: 185\n",
      "new edges: 66480 subset: 66480 in_edges: 15258\n",
      "-- max nb of nodes reached in iteration 4 --\n",
      "new edges: 50116 subset: 50116 in_edges: 25207\n",
      "subgraph: nb of nodes: 10000\n"
     ]
    }
   ],
   "source": [
    "graph_handle.rules['min_degree'] = 1\n",
    "params_snowball = {'nb_iter' : 1, 'exploration_depth' : 6,\n",
    "            'initial_node' : None, 'random_subset_size' : 1, 'balltype' : 'spikyball',\n",
    "            'number_of_nodes' : number_of_nodes}\n",
    "node_snowball, graph_snowball = test_module.ball_test(graph_handle,params_snowball)\n",
    "# dictionary with each node as key and its degree as value\n",
    "degree_snowball = dict(graph_snowball.degree())\n",
    "degree_snowball = dict(G.degree(node_snowball.keys()))\n",
    "print('subgraph: nb of nodes:',len(degree_snowball))"
   ]
  },
  {
   "cell_type": "code",
   "execution_count": 28,
   "metadata": {},
   "outputs": [],
   "source": [
    "from littleballoffur import MetropolisHastingsRandomWalkSampler, ForestFireSampler, SnowBallSampler\n",
    "\n",
    "\n",
    "sampler = MetropolisHastingsRandomWalkSampler(number_of_nodes = number_of_nodes)\n",
    "new_graph = sampler.sample(G)\n",
    "\n",
    "sampler = ForestFireSampler(number_of_nodes = number_of_nodes, p=0.2)\n",
    "fire_graph = sampler.sample(G)\n",
    "\n",
    "\n",
    "sampler = SnowBallSampler(number_of_nodes = number_of_nodes)\n",
    "snow_graph = sampler.sample(G)\n"
   ]
  },
  {
   "cell_type": "code",
   "execution_count": 29,
   "metadata": {},
   "outputs": [
    {
     "name": "stdout",
     "output_type": "stream",
     "text": [
      "subgraph num of nodes: 10000 10000 10000 50000\n"
     ]
    }
   ],
   "source": [
    "#dlist_metro = dict(new_graph.degree()).values()\n",
    "#dlist_lbof_fire = dict(fire_graph.degree()).values()\n",
    "#dlist_lbof_snow = dict(snow_graph.degree()).values()\n",
    "#dlist_full_graph = dict(G.degree()).values()\n",
    "\n",
    "dlist_metro = dict(G.degree(new_graph.nodes())).values()\n",
    "dlist_lbof_fire = dict(G.degree(fire_graph.nodes())).values()\n",
    "dlist_lbof_snow = dict(G.degree(snow_graph.nodes())).values()\n",
    "dlist_full_graph = dict(G.degree()).values()\n",
    "\n",
    "\n",
    "print('subgraph num of nodes:',len(dlist_metro),len(dlist_lbof_fire),len(dlist_lbof_snow),len(dlist_full_graph))"
   ]
  },
  {
   "cell_type": "markdown",
   "metadata": {},
   "source": [
    "## Degree distribution"
   ]
  },
  {
   "cell_type": "code",
   "execution_count": 30,
   "metadata": {},
   "outputs": [],
   "source": [
    "import seaborn as sns\n",
    "import matplotlib.pyplot as plt\n",
    "plt.style.use('seaborn-whitegrid')\n",
    "sns.set_context(\"paper\", font_scale=1.5)"
   ]
  },
  {
   "cell_type": "code",
   "execution_count": 31,
   "metadata": {},
   "outputs": [
    {
     "name": "stderr",
     "output_type": "stream",
     "text": [
      "/home/benjamin/Documents/EPFL/Research/sad/spiky-simulation/test_module.py:65: RuntimeWarning: invalid value encountered in true_divide\n",
      "  np.histogram(list(counter_dict.keys()),bins)[0])\n",
      "/home/benjamin/Documents/EPFL/Research/sad/spiky-simulation/test_module.py:67: RuntimeWarning: invalid value encountered in true_divide\n",
      "  np.histogram(list(counter_dict.keys()),bins)[0])\n",
      "/usr/local/lib/python3.6/dist-packages/matplotlib/cbook/__init__.py:2446: UserWarning: Saw kwargs ['c', 'color'] which are all aliases for 'color'.  Kept value from 'color'\n",
      "  seen=seen, canon=canonical, used=seen[-1]))\n"
     ]
    },
    {
     "data": {
      "image/png": "[encoded data removed]",
      "text/plain": [
       "<Figure size 360x360 with 1 Axes>"
      ]
     },
     "metadata": {},
     "output_type": "display_data"
    }
   ],
   "source": [
    "dlist_spiky = test_module.expand_degrees(node_spiky, degree_spiky)\n",
    "dlist_snow = test_module.expand_degrees(node_snowball, degree_snowball)\n",
    "dlist_fire = test_module.expand_degrees(node_fire, degree_fire)\n",
    "\n",
    "density=False\n",
    "\n",
    "import matplotlib.pyplot as plt\n",
    "%matplotlib inline\n",
    "\n",
    "plt.figure(figsize=(5,5))\n",
    "plt.xscale('log')\n",
    "plt.yscale('log')\n",
    "#lin_x,lin_y = test_module.degree_distribution(dlist_spiky, mode='lin')\n",
    "#plt.scatter(lin_x,lin_y,c='r',marker='x',s=10)\n",
    "\n",
    "log_x,log_y = test_module.degree_distribution(dlist_full_graph, mode='log',density=density)\n",
    "sns.lineplot(log_x,log_y,c='c',marker='D',label='Initial graph')\n",
    "\n",
    "log_x,log_y = test_module.degree_distribution(dlist_spiky, mode='log',density=density)\n",
    "sns.lineplot(log_x,log_y,c='r',marker='o',label='Spiky')\n",
    "\n",
    "#lin_x,lin_y = test_module.degree_distribution(dlist_snow, mode='lin')\n",
    "#plt.scatter(lin_x,lin_y,c='b',marker='x',s=10)\n",
    "log_x,log_y = test_module.degree_distribution(dlist_snow, mode='log',density=density)\n",
    "sns.lineplot(log_x,log_y,c='b',marker='o',label='Snow')\n",
    "\n",
    "#log_x,log_y = test_module.degree_distribution(dlist_lbof_snow, mode='log',density=density)\n",
    "#sns.lineplot(log_x,log_y,c='b',marker='s',label='Snow lbol')\n",
    "\n",
    "log_x,log_y = test_module.degree_distribution(dlist_fire, mode='log',density=density)\n",
    "sns.lineplot(log_x,log_y,c='k',marker='o',label='Fire')\n",
    "\n",
    "log_x,log_y = test_module.degree_distribution(dlist_lbof_fire, mode='log',density=density)\n",
    "sns.lineplot(log_x,log_y,c='k',marker='s',label='Forest fire lbof')\n",
    "\n",
    "log_x,log_y = test_module.degree_distribution(dlist_metro, mode='log',density=density)\n",
    "line1 = sns.lineplot(log_x,log_y,c='g',marker='s',label='Metro lbof')\n",
    "\n",
    "#line1.set_dashes([2, 2, 10, 2])\n",
    "\n",
    "#plt.xlim((1e-4,1e-1))\n",
    "#plt.ylim((.9,1e4))\n",
    "plt.xlabel('Degree')\n",
    "plt.ylabel('Nb of nodes')\n",
    "#plt.title('Degree distribution of sampled graphs\\n from a '+G.graph['name'])\n",
    "plt.legend()\n",
    "plt.savefig(data_path + 'degree_distribOrigin'+ graph_type +'.png')"
   ]
  },
  {
   "cell_type": "code",
   "execution_count": 32,
   "metadata": {},
   "outputs": [
    {
     "name": "stderr",
     "output_type": "stream",
     "text": [
      "/home/benjamin/Documents/EPFL/Research/sad/spiky-simulation/test_module.py:65: RuntimeWarning: invalid value encountered in true_divide\n",
      "  np.histogram(list(counter_dict.keys()),bins)[0])\n",
      "/home/benjamin/Documents/EPFL/Research/sad/spiky-simulation/test_module.py:67: RuntimeWarning: invalid value encountered in true_divide\n",
      "  np.histogram(list(counter_dict.keys()),bins)[0])\n",
      "/usr/local/lib/python3.6/dist-packages/matplotlib/cbook/__init__.py:2446: UserWarning: Saw kwargs ['c', 'color'] which are all aliases for 'color'.  Kept value from 'color'\n",
      "  seen=seen, canon=canonical, used=seen[-1]))\n"
     ]
    },
    {
     "data": {
      "image/png": "[encoded data removed]",
      "text/plain": [
       "<Figure size 360x360 with 1 Axes>"
      ]
     },
     "metadata": {},
     "output_type": "display_data"
    }
   ],
   "source": [
    "\n",
    "density=True\n",
    "\n",
    "import matplotlib.pyplot as plt\n",
    "%matplotlib inline\n",
    "\n",
    "plt.figure(figsize=(5,5))\n",
    "plt.xscale('log')\n",
    "plt.yscale('log')\n",
    "\n",
    "#lin_x,lin_y = test_module.degree_distribution(dlist_spiky, mode='lin')\n",
    "#plt.scatter(lin_x,lin_y,c='r',marker='x',s=10)\n",
    "\n",
    "log_x,log_y = test_module.degree_distribution(dlist_full_graph, mode='log',density=density)\n",
    "sns.lineplot(log_x,log_y,c='c',marker='D',label='Initial graph')\n",
    "\n",
    "log_x,log_y = test_module.degree_distribution(dlist_spiky, mode='log',density=density)\n",
    "sns.lineplot(log_x,log_y,c='r',marker='o',label='Spiky')\n",
    "\n",
    "#lin_x,lin_y = test_module.degree_distribution(dlist_snow, mode='lin')\n",
    "#plt.scatter(lin_x,lin_y,c='b',marker='x',s=10)\n",
    "log_x,log_y = test_module.degree_distribution(dlist_snow, mode='log',density=density)\n",
    "sns.lineplot(log_x,log_y,c='b',marker='o',label='Snow')\n",
    "\n",
    "#log_x,log_y = test_module.degree_distribution(dlist_lbof_snow, mode='log',density=density)\n",
    "#sns.lineplot(log_x,log_y,c='b',marker='s',label='Snow lbol')\n",
    "\n",
    "log_x,log_y = test_module.degree_distribution(dlist_fire, mode='log',density=density)\n",
    "sns.lineplot(log_x,log_y,c='k',marker='o',label='Fire')\n",
    "\n",
    "log_x,log_y = test_module.degree_distribution(dlist_lbof_fire, mode='log',density=density)\n",
    "sns.lineplot(log_x,log_y,c='k',marker='s',label='Forest fire lbof')\n",
    "\n",
    "log_x,log_y = test_module.degree_distribution(dlist_metro, mode='log',density=density)\n",
    "sns.lineplot(log_x,log_y,c='g',marker='s',dashes=[2, 2],label='Metro lbof')\n",
    "\n",
    "#plt.xlim((1e-4,1e-1))\n",
    "#plt.ylim((.9,1e4))\n",
    "plt.xlabel('Degree')\n",
    "plt.ylabel('Node density')\n",
    "#plt.title('Degree distribution of sampled graphs\\n from a '+G.graph['name'])\n",
    "plt.legend()\n",
    "plt.savefig(data_path + 'degree_distrib_densityOrigin'+ graph_type +'.png')"
   ]
  },
  {
   "cell_type": "code",
   "execution_count": null,
   "metadata": {},
   "outputs": [],
   "source": []
  },
  {
   "cell_type": "code",
   "execution_count": null,
   "metadata": {},
   "outputs": [],
   "source": []
  }
 ],
 "metadata": {
  "kernelspec": {
   "display_name": "Python 3",
   "language": "python",
   "name": "python3"
  },
  "language_info": {
   "codemirror_mode": {
    "name": "ipython",
    "version": 3
   },
   "file_extension": ".py",
   "mimetype": "text/x-python",
   "name": "python",
   "nbconvert_exporter": "python",
   "pygments_lexer": "ipython3",
   "version": "3.6.9"
  }
 },
 "nbformat": 4,
 "nbformat_minor": 4
}
