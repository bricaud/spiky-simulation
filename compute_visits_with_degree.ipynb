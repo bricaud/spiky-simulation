{
 "cells": [
  {
   "cell_type": "code",
   "execution_count": 1,
   "metadata": {},
   "outputs": [],
   "source": [
    "#import pandas as pd\n",
    "#import json\n",
    "import networkx as nx"
   ]
  },
  {
   "cell_type": "code",
   "execution_count": 2,
   "metadata": {
    "scrolled": true
   },
   "outputs": [],
   "source": [
    "import sys\n",
    "sys.path.append(\"../pysad\")\n",
    "#import pysad\n",
    "#import pysad.utils\n",
    "import pysad.exploration\n",
    "import pysad.synthesis\n",
    "import pysad.graph\n",
    "from pysad.NodeInfo import SynthNodeInfo"
   ]
  },
  {
   "cell_type": "code",
   "execution_count": 3,
   "metadata": {},
   "outputs": [],
   "source": [
    "sys.path.append(\"../littleballoffur\")"
   ]
  },
  {
   "cell_type": "code",
   "execution_count": 4,
   "metadata": {},
   "outputs": [],
   "source": [
    "from littleballoffur.dataset import GraphReader"
   ]
  },
  {
   "cell_type": "code",
   "execution_count": 5,
   "metadata": {},
   "outputs": [],
   "source": [
    "import test_module"
   ]
  },
  {
   "cell_type": "code",
   "execution_count": 6,
   "metadata": {},
   "outputs": [],
   "source": [
    "data_path = '../synthesis/'"
   ]
  },
  {
   "cell_type": "markdown",
   "metadata": {},
   "source": [
    "# Creating the graph"
   ]
  },
  {
   "cell_type": "code",
   "execution_count": 7,
   "metadata": {
    "scrolled": true
   },
   "outputs": [
    {
     "data": {
      "text/plain": [
       "<module 'test_module' from '/home/benjamin/Documents/EPFL/Research/sad/spiky-simulation/test_module.py'>"
      ]
     },
     "execution_count": 7,
     "metadata": {},
     "output_type": "execute_result"
    }
   ],
   "source": [
    "import importlib\n",
    "importlib.reload(pysad.exploration)\n",
    "importlib.reload(pysad.synthesis)\n",
    "importlib.reload(test_module)"
   ]
  },
  {
   "cell_type": "code",
   "execution_count": 8,
   "metadata": {},
   "outputs": [],
   "source": [
    "data_path = '../synthesis/'\n"
   ]
  },
  {
   "cell_type": "code",
   "execution_count": null,
   "metadata": {},
   "outputs": [],
   "source": []
  },
  {
   "cell_type": "code",
   "execution_count": 9,
   "metadata": {},
   "outputs": [],
   "source": [
    "graph_type = 'real'\n",
    "if graph_type == 'BA':\n",
    "    graphname = 'Barabasi-Albert'\n",
    "    nodes = 50000\n",
    "    edges_per_node = 5\n",
    "    G = nx.barabasi_albert_graph(nodes, edges_per_node)\n",
    "elif graph_type == 'ER':\n",
    "    graphname = 'Erdos-Renyi'\n",
    "    nb_nodes = 50000\n",
    "    nb_edges = 200000\n",
    "    G = nx.gnm_random_graph(nb_nodes, nb_edges)\n",
    "elif graph_type == 'real':\n",
    "    graphname = 'Real network'\n",
    "    reader = GraphReader(\"facebook\")\n",
    "    G = reader.get_graph()\n",
    "else:\n",
    "    raise ValueError('Unknow graph type.')\n",
    "graph_handle = pysad.synthesis.SyntheticNetwork(G)\n",
    "G.graph['name'] = graphname"
   ]
  },
  {
   "cell_type": "code",
   "execution_count": 185,
   "metadata": {},
   "outputs": [
    {
     "name": "stdout",
     "output_type": "stream",
     "text": [
      "Graph info\n",
      "----------\n",
      "graph type: Real network\n",
      "nb of nodes: 22470 , nb of edges: 171002\n"
     ]
    }
   ],
   "source": [
    "print('Graph info')\n",
    "print('----------')\n",
    "print('graph type:',G.graph['name'])\n",
    "print('nb of nodes:',G.number_of_nodes(),', nb of edges:',G.number_of_edges())\n",
    "#print('Diameter:', nx.diameter(G))"
   ]
  },
  {
   "cell_type": "markdown",
   "metadata": {},
   "source": [
    "## Statistics of propagation"
   ]
  },
  {
   "cell_type": "code",
   "execution_count": 11,
   "metadata": {},
   "outputs": [
    {
     "data": {
      "text/plain": [
       "<module 'pysad.synthesis' from '../pysad/pysad/synthesis.py'>"
      ]
     },
     "execution_count": 11,
     "metadata": {},
     "output_type": "execute_result"
    }
   ],
   "source": [
    "import numpy as np\n",
    "import importlib\n",
    "importlib.reload(pysad.exploration)\n",
    "importlib.reload(pysad.synthesis)"
   ]
  },
  {
   "cell_type": "code",
   "execution_count": 175,
   "metadata": {},
   "outputs": [],
   "source": [
    "number_of_nodes = None\n",
    "exploration_depth = 8\n",
    "proba = 0.1"
   ]
  },
  {
   "cell_type": "code",
   "execution_count": 176,
   "metadata": {
    "scrolled": true
   },
   "outputs": [
    {
     "name": "stdout",
     "output_type": "stream",
     "text": [
      "-- experiment 0 --\n",
      "Initial node 200\n",
      "new edges: 6 subset: 6 in_edges: 0\n",
      "new edges: 585 subset: 58 in_edges: 12\n",
      "new edges: 2703 subset: 270 in_edges: 96\n",
      "new edges: 15122 subset: 1512 in_edges: 2333\n",
      "new edges: 29751 subset: 2975 in_edges: 31316\n",
      "new edges: 26557 subset: 2656 in_edges: 41081\n",
      "new edges: 19040 subset: 1904 in_edges: 29918\n",
      "new edges: 10609 subset: 1061 in_edges: 20285\n",
      "-- experiment 1 --\n",
      "Initial node 200\n",
      "new edges: 6 subset: 6 in_edges: 0\n",
      "new edges: 585 subset: 58 in_edges: 12\n",
      "new edges: 2588 subset: 259 in_edges: 110\n",
      "new edges: 15678 subset: 1568 in_edges: 2378\n",
      "new edges: 30616 subset: 3062 in_edges: 31588\n",
      "new edges: 25636 subset: 2564 in_edges: 42156\n",
      "new edges: 16853 subset: 1685 in_edges: 30677\n",
      "new edges: 11245 subset: 1124 in_edges: 17416\n",
      "-- experiment 2 --\n",
      "Initial node 200\n",
      "new edges: 6 subset: 6 in_edges: 0\n",
      "new edges: 585 subset: 58 in_edges: 12\n",
      "new edges: 3015 subset: 302 in_edges: 111\n",
      "new edges: 16628 subset: 1663 in_edges: 2866\n",
      "new edges: 31329 subset: 3133 in_edges: 33777\n",
      "new edges: 25183 subset: 2518 in_edges: 42342\n",
      "new edges: 17233 subset: 1723 in_edges: 29938\n",
      "new edges: 10799 subset: 1080 in_edges: 17151\n",
      "-- experiment 3 --\n",
      "Initial node 200\n",
      "new edges: 6 subset: 6 in_edges: 0\n",
      "new edges: 585 subset: 58 in_edges: 12\n",
      "new edges: 2228 subset: 223 in_edges: 79\n",
      "new edges: 13963 subset: 1396 in_edges: 1923\n",
      "new edges: 28897 subset: 2890 in_edges: 29471\n",
      "new edges: 24917 subset: 2492 in_edges: 39236\n",
      "new edges: 19718 subset: 1972 in_edges: 31254\n",
      "new edges: 11850 subset: 1185 in_edges: 20335\n",
      "-- experiment 4 --\n",
      "Initial node 200\n",
      "new edges: 6 subset: 6 in_edges: 0\n",
      "new edges: 585 subset: 58 in_edges: 12\n",
      "new edges: 2597 subset: 260 in_edges: 94\n",
      "new edges: 13660 subset: 1366 in_edges: 2614\n",
      "new edges: 26837 subset: 2684 in_edges: 30123\n",
      "new edges: 22269 subset: 2227 in_edges: 35936\n",
      "new edges: 20362 subset: 2036 in_edges: 27074\n",
      "new edges: 13981 subset: 1398 in_edges: 22868\n",
      "-- experiment 5 --\n",
      "Initial node 200\n",
      "new edges: 6 subset: 6 in_edges: 0\n",
      "new edges: 585 subset: 58 in_edges: 12\n",
      "new edges: 1929 subset: 193 in_edges: 81\n",
      "new edges: 13264 subset: 1326 in_edges: 1694\n",
      "new edges: 29665 subset: 2966 in_edges: 26156\n",
      "new edges: 27551 subset: 2755 in_edges: 43503\n",
      "new edges: 19360 subset: 1936 in_edges: 34222\n",
      "new edges: 11729 subset: 1173 in_edges: 19362\n",
      "-- experiment 6 --\n",
      "Initial node 200\n",
      "new edges: 6 subset: 6 in_edges: 0\n",
      "new edges: 585 subset: 58 in_edges: 12\n",
      "new edges: 2361 subset: 236 in_edges: 105\n",
      "new edges: 14262 subset: 1426 in_edges: 2255\n",
      "new edges: 28401 subset: 2840 in_edges: 29591\n",
      "new edges: 25229 subset: 2523 in_edges: 37355\n",
      "new edges: 20451 subset: 2045 in_edges: 31666\n",
      "new edges: 11917 subset: 1192 in_edges: 21913\n",
      "-- experiment 7 --\n",
      "Initial node 200\n",
      "new edges: 6 subset: 6 in_edges: 0\n",
      "new edges: 585 subset: 58 in_edges: 12\n",
      "new edges: 2230 subset: 223 in_edges: 99\n",
      "new edges: 13027 subset: 1303 in_edges: 2111\n",
      "new edges: 30013 subset: 3001 in_edges: 25817\n",
      "new edges: 27370 subset: 2737 in_edges: 41916\n",
      "new edges: 19112 subset: 1911 in_edges: 33091\n",
      "new edges: 12428 subset: 1243 in_edges: 20640\n",
      "-- experiment 8 --\n",
      "Initial node 200\n",
      "new edges: 6 subset: 6 in_edges: 0\n",
      "new edges: 585 subset: 58 in_edges: 12\n",
      "new edges: 2639 subset: 264 in_edges: 101\n",
      "new edges: 16061 subset: 1606 in_edges: 2955\n",
      "new edges: 29445 subset: 2944 in_edges: 31709\n",
      "new edges: 28942 subset: 2894 in_edges: 40737\n",
      "new edges: 18909 subset: 1891 in_edges: 33318\n",
      "new edges: 10046 subset: 1005 in_edges: 20572\n",
      "-- experiment 9 --\n",
      "Initial node 200\n",
      "new edges: 6 subset: 6 in_edges: 0\n",
      "new edges: 585 subset: 58 in_edges: 12\n",
      "new edges: 2868 subset: 287 in_edges: 104\n",
      "new edges: 17534 subset: 1753 in_edges: 3466\n",
      "new edges: 28005 subset: 2800 in_edges: 35730\n",
      "new edges: 23568 subset: 2357 in_edges: 36744\n",
      "new edges: 18032 subset: 1803 in_edges: 27207\n",
      "new edges: 11209 subset: 1121 in_edges: 19890\n"
     ]
    }
   ],
   "source": [
    "graph_handle.rules['min_degree'] = 1\n",
    "params = {'nb_iter' : 10, 'exploration_depth' : exploration_depth,\n",
    "            'initial_node' : 200, 'random_subset_size' : proba, 'balltype' : 'spikyball',\n",
    "         'number_of_nodes' : number_of_nodes}\n",
    "node_spiky, graph_spiky = test_module.ball_test(graph_handle,params)\n",
    "# dictionary with each node as key and its degree as value\n",
    "degree_spiky = dict(G.degree(node_spiky.keys()))"
   ]
  },
  {
   "cell_type": "code",
   "execution_count": 177,
   "metadata": {
    "scrolled": true
   },
   "outputs": [
    {
     "name": "stdout",
     "output_type": "stream",
     "text": [
      "-- experiment 0 --\n",
      "Initial node 200\n",
      "new edges: 6 subset: 6 in_edges: 0\n",
      "new edges: 585 subset: 58 in_edges: 12\n",
      "new edges: 2281 subset: 228 in_edges: 115\n",
      "new edges: 10498 subset: 1050 in_edges: 1443\n",
      "new edges: 27214 subset: 2721 in_edges: 14272\n",
      "new edges: 29356 subset: 2936 in_edges: 36591\n",
      "new edges: 20603 subset: 2060 in_edges: 31659\n",
      "new edges: 13358 subset: 1336 in_edges: 19334\n",
      "-- experiment 1 --\n",
      "Initial node 200\n",
      "new edges: 6 subset: 6 in_edges: 0\n",
      "new edges: 585 subset: 58 in_edges: 12\n",
      "new edges: 1937 subset: 194 in_edges: 88\n",
      "new edges: 10485 subset: 1048 in_edges: 1122\n",
      "new edges: 27171 subset: 2717 in_edges: 15265\n",
      "new edges: 27796 subset: 2780 in_edges: 38243\n",
      "new edges: 21579 subset: 2158 in_edges: 29469\n",
      "new edges: 13767 subset: 1377 in_edges: 20154\n",
      "-- experiment 2 --\n",
      "Initial node 200\n",
      "new edges: 6 subset: 6 in_edges: 0\n",
      "new edges: 585 subset: 58 in_edges: 12\n",
      "new edges: 1623 subset: 162 in_edges: 92\n",
      "new edges: 8819 subset: 882 in_edges: 987\n",
      "new edges: 27202 subset: 2720 in_edges: 13148\n",
      "new edges: 28376 subset: 2838 in_edges: 38019\n",
      "new edges: 20274 subset: 2027 in_edges: 29823\n",
      "new edges: 13195 subset: 1320 in_edges: 19062\n",
      "-- experiment 3 --\n",
      "Initial node 200\n",
      "new edges: 6 subset: 6 in_edges: 0\n",
      "new edges: 585 subset: 58 in_edges: 12\n",
      "new edges: 1835 subset: 184 in_edges: 110\n",
      "new edges: 9073 subset: 907 in_edges: 970\n",
      "new edges: 24174 subset: 2417 in_edges: 9770\n",
      "new edges: 30843 subset: 3084 in_edges: 32504\n",
      "new edges: 23325 subset: 2332 in_edges: 36234\n",
      "new edges: 14913 subset: 1491 in_edges: 23704\n",
      "-- experiment 4 --\n",
      "Initial node 200\n",
      "new edges: 6 subset: 6 in_edges: 0\n",
      "new edges: 585 subset: 58 in_edges: 12\n",
      "new edges: 2469 subset: 247 in_edges: 94\n",
      "new edges: 11824 subset: 1182 in_edges: 1735\n",
      "new edges: 30142 subset: 3014 in_edges: 17398\n",
      "new edges: 27460 subset: 2746 in_edges: 40365\n",
      "new edges: 18695 subset: 1870 in_edges: 28254\n",
      "new edges: 13769 subset: 1377 in_edges: 17148\n",
      "-- experiment 5 --\n",
      "Initial node 200\n",
      "new edges: 6 subset: 6 in_edges: 0\n",
      "new edges: 585 subset: 58 in_edges: 12\n",
      "new edges: 2540 subset: 254 in_edges: 125\n",
      "new edges: 12983 subset: 1298 in_edges: 1748\n",
      "new edges: 30828 subset: 3083 in_edges: 18050\n",
      "new edges: 31366 subset: 3137 in_edges: 42194\n",
      "new edges: 20362 subset: 2036 in_edges: 33063\n",
      "new edges: 11687 subset: 1169 in_edges: 18810\n",
      "-- experiment 6 --\n",
      "Initial node 200\n",
      "new edges: 6 subset: 6 in_edges: 0\n",
      "new edges: 585 subset: 58 in_edges: 12\n",
      "new edges: 1979 subset: 198 in_edges: 131\n",
      "new edges: 8651 subset: 865 in_edges: 923\n",
      "new edges: 25518 subset: 2552 in_edges: 9064\n",
      "new edges: 35380 subset: 3538 in_edges: 35995\n",
      "new edges: 23244 subset: 2324 in_edges: 42037\n",
      "new edges: 13044 subset: 1304 in_edges: 22207\n",
      "-- experiment 7 --\n",
      "Initial node 200\n",
      "new edges: 6 subset: 6 in_edges: 0\n",
      "new edges: 585 subset: 58 in_edges: 12\n",
      "new edges: 1791 subset: 179 in_edges: 95\n",
      "new edges: 8011 subset: 801 in_edges: 831\n",
      "new edges: 23347 subset: 2335 in_edges: 9548\n",
      "new edges: 28844 subset: 2884 in_edges: 31583\n",
      "new edges: 22439 subset: 2244 in_edges: 32681\n",
      "new edges: 14410 subset: 1441 in_edges: 23021\n",
      "-- experiment 8 --\n",
      "Initial node 200\n",
      "new edges: 6 subset: 6 in_edges: 0\n",
      "new edges: 585 subset: 58 in_edges: 12\n",
      "new edges: 2461 subset: 246 in_edges: 110\n",
      "new edges: 11248 subset: 1125 in_edges: 1379\n",
      "new edges: 29581 subset: 2958 in_edges: 15101\n",
      "new edges: 32424 subset: 3242 in_edges: 39729\n",
      "new edges: 20901 subset: 2090 in_edges: 35166\n",
      "new edges: 12434 subset: 1243 in_edges: 20690\n",
      "-- experiment 9 --\n",
      "Initial node 200\n",
      "new edges: 6 subset: 6 in_edges: 0\n",
      "new edges: 585 subset: 58 in_edges: 12\n",
      "new edges: 2895 subset: 290 in_edges: 122\n",
      "new edges: 12910 subset: 1291 in_edges: 1949\n",
      "new edges: 30574 subset: 3057 in_edges: 17120\n",
      "new edges: 29689 subset: 2969 in_edges: 40574\n",
      "new edges: 19930 subset: 1993 in_edges: 31580\n",
      "new edges: 11267 subset: 1127 in_edges: 17796\n"
     ]
    }
   ],
   "source": [
    "graph_handle.rules['min_degree'] = 1\n",
    "params = {'nb_iter' : 10, 'exploration_depth' : exploration_depth,\n",
    "            'initial_node' : 200, 'random_subset_size' : proba, 'balltype' : 'fireball',\n",
    "         'number_of_nodes' : number_of_nodes}\n",
    "node_fire, graph_fire = test_module.ball_test(graph_handle,params)\n",
    "# dictionary with each node as key and its degree as value\n",
    "degree_fire = dict(G.degree(node_fire.keys()))"
   ]
  },
  {
   "cell_type": "code",
   "execution_count": 67,
   "metadata": {},
   "outputs": [
    {
     "name": "stdout",
     "output_type": "stream",
     "text": [
      "-- experiment 0 --\n",
      "Initial node 200\n",
      "new edges: 6 subset: 6 in_edges: 0\n",
      "new edges: 585 subset: 585 in_edges: 12\n",
      "new edges: 20428 subset: 20428 in_edges: 3937\n",
      "-- experiment 1 --\n",
      "Initial node 200\n",
      "new edges: 6 subset: 6 in_edges: 0\n",
      "new edges: 585 subset: 585 in_edges: 12\n",
      "new edges: 20428 subset: 20428 in_edges: 3937\n",
      "-- experiment 2 --\n",
      "Initial node 200\n",
      "new edges: 6 subset: 6 in_edges: 0\n",
      "new edges: 585 subset: 585 in_edges: 12\n",
      "new edges: 20428 subset: 20428 in_edges: 3937\n",
      "-- experiment 3 --\n",
      "Initial node 200\n",
      "new edges: 6 subset: 6 in_edges: 0\n",
      "new edges: 585 subset: 585 in_edges: 12\n",
      "new edges: 20428 subset: 20428 in_edges: 3937\n",
      "-- experiment 4 --\n",
      "Initial node 200\n",
      "new edges: 6 subset: 6 in_edges: 0\n",
      "new edges: 585 subset: 585 in_edges: 12\n",
      "new edges: 20428 subset: 20428 in_edges: 3937\n",
      "-- experiment 5 --\n",
      "Initial node 200\n",
      "new edges: 6 subset: 6 in_edges: 0\n",
      "new edges: 585 subset: 585 in_edges: 12\n",
      "new edges: 20428 subset: 20428 in_edges: 3937\n",
      "-- experiment 6 --\n",
      "Initial node 200\n",
      "new edges: 6 subset: 6 in_edges: 0\n",
      "new edges: 585 subset: 585 in_edges: 12\n",
      "new edges: 20428 subset: 20428 in_edges: 3937\n",
      "-- experiment 7 --\n",
      "Initial node 200\n",
      "new edges: 6 subset: 6 in_edges: 0\n",
      "new edges: 585 subset: 585 in_edges: 12\n",
      "new edges: 20428 subset: 20428 in_edges: 3937\n",
      "-- experiment 8 --\n",
      "Initial node 200\n",
      "new edges: 6 subset: 6 in_edges: 0\n",
      "new edges: 585 subset: 585 in_edges: 12\n",
      "new edges: 20428 subset: 20428 in_edges: 3937\n",
      "-- experiment 9 --\n",
      "Initial node 200\n",
      "new edges: 6 subset: 6 in_edges: 0\n",
      "new edges: 585 subset: 585 in_edges: 12\n",
      "new edges: 20428 subset: 20428 in_edges: 3937\n"
     ]
    }
   ],
   "source": [
    "graph_handle.rules['min_degree'] = 1\n",
    "params_snowball = {'nb_iter' : 10, 'exploration_depth' : 3,\n",
    "            'initial_node' : 200, 'random_subset_size' : 1, 'balltype' : 'spikyball',\n",
    "         'number_of_nodes' : number_of_nodes}\n",
    "node_snowball,graph_snowball = test_module.ball_test(graph_handle,params_snowball)\n",
    "# dictionary with each node as key and its degree as value\n",
    "degree_snowball = dict(G.degree(node_snowball.keys()))"
   ]
  },
  {
   "cell_type": "markdown",
   "metadata": {},
   "source": [
    "## Degree stats"
   ]
  },
  {
   "cell_type": "code",
   "execution_count": 68,
   "metadata": {},
   "outputs": [],
   "source": [
    "def bin_degrees(visits,degrees):\n",
    "    count_dic = {}\n",
    "    bin_count=100\n",
    "    bins = np.logspace(0,10,num=bin_count)\n",
    "    for v,d in zip(visits,degrees):\n",
    "        l_list = [n for n in bins if n<=d]\n",
    "        last = l_list[-1]\n",
    "        if last in count_dic:\n",
    "            count_dic[last].append(v)\n",
    "        else:\n",
    "            count_dic[last] = [v]\n",
    "    # process the mean value\n",
    "    hist_dic = {}\n",
    "    for b,l in count_dic.items():\n",
    "        hist_dic[b] = np.mean(l)\n",
    "    return list(hist_dic.keys()), list(hist_dic.values())"
   ]
  },
  {
   "cell_type": "code",
   "execution_count": 69,
   "metadata": {},
   "outputs": [],
   "source": [
    "def degree_wrt_visits(node_dic,degree_dic):\n",
    "    visits = []\n",
    "    degrees = []\n",
    "    for node,iters in node_dic.items():\n",
    "        nb_visits = len(iters)\n",
    "        visits.append(nb_visits)\n",
    "        degrees.append(degree_dic[node])\n",
    "\n",
    "    return visits,degrees"
   ]
  },
  {
   "cell_type": "code",
   "execution_count": 178,
   "metadata": {},
   "outputs": [],
   "source": [
    "xsn,ysn = degree_wrt_visits(node_snowball,degree_snowball)\n",
    "\n",
    "xsp,ysp = degree_wrt_visits(node_spiky,degree_spiky)\n",
    "\n",
    "xf,yf = degree_wrt_visits(node_fire,degree_fire)"
   ]
  },
  {
   "cell_type": "code",
   "execution_count": 179,
   "metadata": {},
   "outputs": [],
   "source": [
    "import seaborn as sns"
   ]
  },
  {
   "cell_type": "code",
   "execution_count": 180,
   "metadata": {},
   "outputs": [],
   "source": [
    "import matplotlib.pyplot as plt\n",
    "plt.style.use('seaborn-whitegrid')\n",
    "sns.set_context(\"paper\", font_scale=1.5)"
   ]
  },
  {
   "cell_type": "code",
   "execution_count": 181,
   "metadata": {},
   "outputs": [
    {
     "data": {
      "image/png": "[encoded data removed]",
      "text/plain": [
       "<Figure size 360x360 with 1 Axes>"
      ]
     },
     "metadata": {},
     "output_type": "display_data"
    }
   ],
   "source": [
    "plt.figure(figsize=(5,5))\n",
    "xx,yy = bin_degrees(xsn,ysn)\n",
    "sns.lineplot(x=xx, y=yy, label='snow' , marker='o')\n",
    "xx,yy = bin_degrees(xsp,ysp)\n",
    "sns.lineplot(x=xx, y=yy, label='spiky' , marker='o')\n",
    "xx,yy = bin_degrees(xf,yf)\n",
    "sns.lineplot(x=xx, y=yy,label='fire' , marker='o')\n",
    "plt.xscale('log')"
   ]
  },
  {
   "cell_type": "markdown",
   "metadata": {},
   "source": [
    "## Same plot with error bars"
   ]
  },
  {
   "cell_type": "code",
   "execution_count": 182,
   "metadata": {},
   "outputs": [],
   "source": [
    "def bin_degrees_repeat(visits,degrees):\n",
    "    count_dic = {}\n",
    "    bin_count=100\n",
    "    bins = np.logspace(0,10,num=bin_count)\n",
    "    for v,d in zip(visits,degrees):\n",
    "        l_list = [n for n in bins if n<=d]\n",
    "        last = l_list[-1]\n",
    "        if last in count_dic:\n",
    "            count_dic[last].append(v)\n",
    "        else:\n",
    "            count_dic[last] = [v]\n",
    "    # process the mean value\n",
    "    d_list = []\n",
    "    v_list = []\n",
    "    for b,l in count_dic.items():\n",
    "        for vis in l:\n",
    "            d_list.append(b)\n",
    "            v_list.append(vis)\n",
    "    return d_list,v_list"
   ]
  },
  {
   "cell_type": "code",
   "execution_count": 183,
   "metadata": {},
   "outputs": [
    {
     "name": "stderr",
     "output_type": "stream",
     "text": [
      "/usr/local/lib/python3.6/dist-packages/scipy/stats/stats.py:1713: FutureWarning: Using a non-tuple sequence for multidimensional indexing is deprecated; use `arr[tuple(seq)]` instead of `arr[seq]`. In the future this will be interpreted as an array index, `arr[np.array(seq)]`, which will result either in an error or a different result.\n",
      "  return np.add.reduce(sorted[indexer] * weights, axis=axis) / sumval\n"
     ]
    },
    {
     "data": {
      "image/png": "[encoded data removed]",
      "text/plain": [
       "<Figure size 360x360 with 1 Axes>"
      ]
     },
     "metadata": {},
     "output_type": "display_data"
    }
   ],
   "source": [
    "plt.figure(figsize=(5,5))\n",
    "xx,yy = bin_degrees_repeat(xsn,ysn)\n",
    "sns_plot = sns.lineplot(x=xx, y=yy, label='Snow' , marker='o')\n",
    "xx,yy = bin_degrees_repeat(xsp,ysp)\n",
    "sns.lineplot(x=xx, y=yy, label='Spiky' , marker='o')\n",
    "xx,yy = bin_degrees_repeat(xf,yf)\n",
    "sns.lineplot(x=xx, y=yy,label='Fire' , marker='o')\n",
    "plt.xscale('log')\n",
    "#plt.yscale('log')\n",
    "plt.xlabel('Node degree')\n",
    "plt.ylabel('Number of time visited')\n",
    "fig = sns_plot.get_figure()\n",
    "fig.savefig(data_path + 'visits_wrt_degree_d'+ str(exploration_depth)+'_p'+str(proba) +'.png')"
   ]
  },
  {
   "cell_type": "code",
   "execution_count": null,
   "metadata": {},
   "outputs": [],
   "source": []
  }
 ],
 "metadata": {
  "kernelspec": {
   "display_name": "Python 3",
   "language": "python",
   "name": "python3"
  },
  "language_info": {
   "codemirror_mode": {
    "name": "ipython",
    "version": 3
   },
   "file_extension": ".py",
   "mimetype": "text/x-python",
   "name": "python",
   "nbconvert_exporter": "python",
   "pygments_lexer": "ipython3",
   "version": "3.6.9"
  }
 },
 "nbformat": 4,
 "nbformat_minor": 4
}
