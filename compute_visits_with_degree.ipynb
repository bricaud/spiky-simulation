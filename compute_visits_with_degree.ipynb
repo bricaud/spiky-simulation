{
 "cells": [
  {
   "cell_type": "code",
   "execution_count": 2,
   "metadata": {},
   "outputs": [],
   "source": [
    "#import pandas as pd\n",
    "#import json\n",
    "import networkx as nx"
   ]
  },
  {
   "cell_type": "code",
   "execution_count": 3,
   "metadata": {
    "scrolled": true
   },
   "outputs": [],
   "source": [
    "import sys\n",
    "sys.path.append(\"../pysad\")\n",
    "#import pysad\n",
    "#import pysad.utils\n",
    "import pysad.exploration\n",
    "import pysad.synthesis\n",
    "import pysad.graph\n",
    "from pysad.NodeInfo import SynthNodeInfo"
   ]
  },
  {
   "cell_type": "code",
   "execution_count": 4,
   "metadata": {},
   "outputs": [],
   "source": [
    "sys.path.append(\"../littleballoffur\")"
   ]
  },
  {
   "cell_type": "code",
   "execution_count": 5,
   "metadata": {},
   "outputs": [],
   "source": [
    "from littleballoffur.dataset import GraphReader"
   ]
  },
  {
   "cell_type": "code",
   "execution_count": 6,
   "metadata": {},
   "outputs": [],
   "source": [
    "import test_module"
   ]
  },
  {
   "cell_type": "code",
   "execution_count": 26,
   "metadata": {},
   "outputs": [],
   "source": [
    "data_path = '../synthesis/'"
   ]
  },
  {
   "cell_type": "markdown",
   "metadata": {},
   "source": [
    "# Creating the graph"
   ]
  },
  {
   "cell_type": "code",
   "execution_count": 7,
   "metadata": {
    "scrolled": true
   },
   "outputs": [
    {
     "data": {
      "text/plain": [
       "<module 'test_module' from '/home/benjamin/Documents/EPFL/Research/sad/spiky-simulation/test_module.py'>"
      ]
     },
     "execution_count": 7,
     "metadata": {},
     "output_type": "execute_result"
    }
   ],
   "source": [
    "import importlib\n",
    "importlib.reload(pysad.exploration)\n",
    "importlib.reload(pysad.synthesis)\n",
    "importlib.reload(test_module)"
   ]
  },
  {
   "cell_type": "code",
   "execution_count": 8,
   "metadata": {},
   "outputs": [],
   "source": [
    "data_path = '../synthesis/'\n"
   ]
  },
  {
   "cell_type": "code",
   "execution_count": null,
   "metadata": {},
   "outputs": [],
   "source": []
  },
  {
   "cell_type": "code",
   "execution_count": 9,
   "metadata": {},
   "outputs": [],
   "source": [
    "graph_type = 'real'\n",
    "if graph_type == 'BA':\n",
    "    graphname = 'Barabasi-Albert'\n",
    "    nodes = 50000\n",
    "    edges_per_node = 5\n",
    "    G = nx.barabasi_albert_graph(nodes, edges_per_node)\n",
    "elif graph_type == 'ER':\n",
    "    graphname = 'Erdos-Renyi'\n",
    "    nb_nodes = 50000\n",
    "    nb_edges = 200000\n",
    "    G = nx.gnm_random_graph(nb_nodes, nb_edges)\n",
    "elif graph_type == 'real':\n",
    "    graphname = 'Real network'\n",
    "    reader = GraphReader(\"facebook\")\n",
    "    G = reader.get_graph()\n",
    "else:\n",
    "    raise ValueError('Unknow graph type.')\n",
    "graph_handle = pysad.synthesis.SyntheticNetwork(G)\n",
    "G.graph['name'] = graphname"
   ]
  },
  {
   "cell_type": "code",
   "execution_count": 10,
   "metadata": {},
   "outputs": [
    {
     "name": "stdout",
     "output_type": "stream",
     "text": [
      "Graph info\n",
      "----------\n",
      "graph type: Real network\n",
      "nb of nodes: 22470 , nb of edges: 171002\n"
     ]
    }
   ],
   "source": [
    "print('Graph info')\n",
    "print('----------')\n",
    "print('graph type:',G.graph['name'])\n",
    "print('nb of nodes:',G.number_of_nodes(),', nb of edges:',G.number_of_edges())\n",
    "# print('Diameter:', nx.diameter(G))"
   ]
  },
  {
   "cell_type": "markdown",
   "metadata": {},
   "source": [
    "## Statistics of propagation"
   ]
  },
  {
   "cell_type": "code",
   "execution_count": 11,
   "metadata": {},
   "outputs": [
    {
     "data": {
      "text/plain": [
       "<module 'pysad.synthesis' from '../pysad/pysad/synthesis.py'>"
      ]
     },
     "execution_count": 11,
     "metadata": {},
     "output_type": "execute_result"
    }
   ],
   "source": [
    "import numpy as np\n",
    "import importlib\n",
    "importlib.reload(pysad.exploration)\n",
    "importlib.reload(pysad.synthesis)"
   ]
  },
  {
   "cell_type": "code",
   "execution_count": 12,
   "metadata": {
    "scrolled": true
   },
   "outputs": [
    {
     "name": "stdout",
     "output_type": "stream",
     "text": [
      "-- experiment 0 --\n",
      "Initial node 20\n",
      "new edges: 1 subset: 1\n",
      "new edges: 150 subset: 15\n",
      "new edges: 191 subset: 19\n",
      "new edges: 581 subset: 58\n",
      "new edges: 1818 subset: 182\n",
      "new edges: 7787 subset: 779\n",
      "new edges: 25144 subset: 2514\n",
      "-- experiment 1 --\n",
      "Initial node 20\n",
      "new edges: 1 subset: 1\n",
      "new edges: 150 subset: 15\n",
      "new edges: 198 subset: 20\n",
      "new edges: 1319 subset: 132\n",
      "new edges: 6518 subset: 652\n",
      "new edges: 23114 subset: 2311\n",
      "new edges: 23603 subset: 2360\n",
      "-- experiment 2 --\n",
      "Initial node 20\n",
      "new edges: 1 subset: 1\n",
      "new edges: 150 subset: 15\n",
      "new edges: 664 subset: 66\n",
      "new edges: 4019 subset: 402\n",
      "new edges: 19651 subset: 1965\n",
      "new edges: 23932 subset: 2393\n",
      "new edges: 22097 subset: 2210\n",
      "-- experiment 3 --\n",
      "Initial node 20\n",
      "new edges: 1 subset: 1\n",
      "new edges: 150 subset: 15\n",
      "new edges: 161 subset: 16\n",
      "new edges: 550 subset: 55\n",
      "new edges: 2599 subset: 260\n",
      "new edges: 9396 subset: 940\n",
      "new edges: 26839 subset: 2684\n",
      "-- experiment 4 --\n",
      "Initial node 20\n",
      "new edges: 1 subset: 1\n",
      "new edges: 150 subset: 15\n",
      "new edges: 306 subset: 31\n",
      "new edges: 1376 subset: 138\n",
      "new edges: 6642 subset: 664\n",
      "new edges: 23454 subset: 2345\n",
      "new edges: 25506 subset: 2551\n",
      "-- experiment 5 --\n",
      "Initial node 20\n",
      "new edges: 1 subset: 1\n",
      "new edges: 150 subset: 15\n",
      "new edges: 314 subset: 31\n",
      "new edges: 1355 subset: 136\n",
      "new edges: 6020 subset: 602\n",
      "new edges: 21264 subset: 2126\n",
      "new edges: 29930 subset: 2993\n",
      "-- experiment 6 --\n",
      "Initial node 20\n",
      "new edges: 1 subset: 1\n",
      "new edges: 150 subset: 15\n",
      "new edges: 272 subset: 27\n",
      "new edges: 976 subset: 98\n",
      "new edges: 3374 subset: 337\n",
      "new edges: 10434 subset: 1043\n",
      "new edges: 26057 subset: 2606\n",
      "-- experiment 7 --\n",
      "Initial node 20\n",
      "new edges: 1 subset: 1\n",
      "new edges: 150 subset: 15\n",
      "new edges: 143 subset: 14\n",
      "new edges: 443 subset: 44\n",
      "new edges: 1345 subset: 134\n",
      "new edges: 3656 subset: 366\n",
      "new edges: 9372 subset: 937\n",
      "-- experiment 8 --\n",
      "Initial node 20\n",
      "new edges: 1 subset: 1\n",
      "new edges: 150 subset: 15\n",
      "new edges: 183 subset: 18\n",
      "new edges: 666 subset: 67\n",
      "new edges: 2701 subset: 270\n",
      "new edges: 7454 subset: 745\n",
      "new edges: 15141 subset: 1514\n",
      "-- experiment 9 --\n",
      "Initial node 20\n",
      "new edges: 1 subset: 1\n",
      "new edges: 150 subset: 15\n",
      "new edges: 264 subset: 26\n",
      "new edges: 878 subset: 88\n",
      "new edges: 2382 subset: 238\n",
      "new edges: 11592 subset: 1159\n",
      "new edges: 27587 subset: 2759\n"
     ]
    }
   ],
   "source": [
    "graph_handle.rules['min_degree'] = 1\n",
    "params = {'nb_iter' : 10, 'exploration_depth' : 7,\n",
    "            'initial_node' : 20, 'random_subset_size' : 0.1, 'balltype' : 'spikyball'}\n",
    "node_spiky = test_module.ball_test(graph_handle,params)\n",
    "# dictionary with each node as key and its degree as value\n",
    "degree_spiky = dict(G.degree(node_spiky.keys()))"
   ]
  },
  {
   "cell_type": "code",
   "execution_count": 13,
   "metadata": {
    "scrolled": true
   },
   "outputs": [
    {
     "name": "stdout",
     "output_type": "stream",
     "text": [
      "-- experiment 0 --\n",
      "Initial node 20\n",
      "new edges: 1 subset: 1\n",
      "new edges: 150 subset: 15\n",
      "new edges: 291 subset: 29\n",
      "new edges: 1367 subset: 137\n",
      "new edges: 5345 subset: 534\n",
      "new edges: 13401 subset: 1340\n",
      "new edges: 25362 subset: 2536\n",
      "-- experiment 1 --\n",
      "Initial node 20\n",
      "new edges: 1 subset: 1\n",
      "new edges: 150 subset: 15\n",
      "new edges: 457 subset: 46\n",
      "new edges: 955 subset: 96\n",
      "new edges: 2103 subset: 210\n",
      "new edges: 4849 subset: 485\n",
      "new edges: 11500 subset: 1150\n",
      "-- experiment 2 --\n",
      "Initial node 20\n",
      "new edges: 1 subset: 1\n",
      "new edges: 150 subset: 15\n",
      "new edges: 1032 subset: 103\n",
      "new edges: 3619 subset: 362\n",
      "new edges: 12027 subset: 1203\n",
      "new edges: 28160 subset: 2816\n",
      "new edges: 27126 subset: 2713\n",
      "-- experiment 3 --\n",
      "Initial node 20\n",
      "new edges: 1 subset: 1\n",
      "new edges: 150 subset: 15\n",
      "new edges: 135 subset: 14\n",
      "new edges: 322 subset: 32\n",
      "new edges: 1522 subset: 152\n",
      "new edges: 4221 subset: 422\n",
      "new edges: 7917 subset: 792\n",
      "-- experiment 4 --\n",
      "Initial node 20\n",
      "new edges: 1 subset: 1\n",
      "new edges: 150 subset: 15\n",
      "new edges: 263 subset: 26\n",
      "new edges: 853 subset: 85\n",
      "new edges: 2728 subset: 273\n",
      "new edges: 6718 subset: 672\n",
      "new edges: 11465 subset: 1146\n",
      "-- experiment 5 --\n",
      "Initial node 20\n",
      "new edges: 1 subset: 1\n",
      "new edges: 150 subset: 15\n",
      "new edges: 987 subset: 99\n",
      "new edges: 3813 subset: 381\n",
      "new edges: 14138 subset: 1414\n",
      "new edges: 24824 subset: 2482\n",
      "new edges: 25246 subset: 2525\n",
      "-- experiment 6 --\n",
      "Initial node 20\n",
      "new edges: 1 subset: 1\n",
      "new edges: 150 subset: 15\n",
      "new edges: 357 subset: 36\n",
      "new edges: 1380 subset: 138\n",
      "new edges: 3155 subset: 316\n",
      "new edges: 7109 subset: 711\n",
      "new edges: 18088 subset: 1809\n",
      "-- experiment 7 --\n",
      "Initial node 20\n",
      "new edges: 1 subset: 1\n",
      "new edges: 150 subset: 15\n",
      "new edges: 183 subset: 18\n",
      "new edges: 612 subset: 61\n",
      "new edges: 1186 subset: 119\n",
      "new edges: 3331 subset: 333\n",
      "new edges: 6404 subset: 640\n",
      "-- experiment 8 --\n",
      "Initial node 20\n",
      "new edges: 1 subset: 1\n",
      "new edges: 150 subset: 15\n",
      "new edges: 855 subset: 86\n",
      "new edges: 3476 subset: 348\n",
      "new edges: 12782 subset: 1278\n",
      "new edges: 26799 subset: 2680\n",
      "new edges: 28170 subset: 2817\n",
      "-- experiment 9 --\n",
      "Initial node 20\n",
      "new edges: 1 subset: 1\n",
      "new edges: 150 subset: 15\n",
      "new edges: 427 subset: 43\n",
      "new edges: 1839 subset: 184\n",
      "new edges: 7631 subset: 763\n",
      "new edges: 15385 subset: 1538\n",
      "new edges: 24928 subset: 2493\n"
     ]
    }
   ],
   "source": [
    "graph_handle.rules['min_degree'] = 1\n",
    "params = {'nb_iter' : 10, 'exploration_depth' : 7,\n",
    "            'initial_node' : 20, 'random_subset_size' : 0.1, 'balltype' : 'fireball'}\n",
    "node_fire = test_module.ball_test(graph_handle,params)\n",
    "# dictionary with each node as key and its degree as value\n",
    "degree_fire = dict(G.degree(node_fire.keys()))"
   ]
  },
  {
   "cell_type": "code",
   "execution_count": 14,
   "metadata": {},
   "outputs": [
    {
     "name": "stdout",
     "output_type": "stream",
     "text": [
      "-- experiment 0 --\n",
      "Initial node 20\n",
      "new edges: 1 subset: 1\n",
      "new edges: 150 subset: 150\n",
      "new edges: 3219 subset: 3219\n",
      "new edges: 30519 subset: 30519\n",
      "-- experiment 1 --\n",
      "Initial node 20\n",
      "new edges: 1 subset: 1\n",
      "new edges: 150 subset: 150\n",
      "new edges: 3219 subset: 3219\n",
      "new edges: 30519 subset: 30519\n",
      "-- experiment 2 --\n",
      "Initial node 20\n",
      "new edges: 1 subset: 1\n",
      "new edges: 150 subset: 150\n",
      "new edges: 3219 subset: 3219\n",
      "new edges: 30519 subset: 30519\n",
      "-- experiment 3 --\n",
      "Initial node 20\n",
      "new edges: 1 subset: 1\n",
      "new edges: 150 subset: 150\n",
      "new edges: 3219 subset: 3219\n",
      "new edges: 30519 subset: 30519\n",
      "-- experiment 4 --\n",
      "Initial node 20\n",
      "new edges: 1 subset: 1\n",
      "new edges: 150 subset: 150\n",
      "new edges: 3219 subset: 3219\n",
      "new edges: 30519 subset: 30519\n",
      "-- experiment 5 --\n",
      "Initial node 20\n",
      "new edges: 1 subset: 1\n",
      "new edges: 150 subset: 150\n",
      "new edges: 3219 subset: 3219\n",
      "new edges: 30519 subset: 30519\n",
      "-- experiment 6 --\n",
      "Initial node 20\n",
      "new edges: 1 subset: 1\n",
      "new edges: 150 subset: 150\n",
      "new edges: 3219 subset: 3219\n",
      "new edges: 30519 subset: 30519\n",
      "-- experiment 7 --\n",
      "Initial node 20\n",
      "new edges: 1 subset: 1\n",
      "new edges: 150 subset: 150\n",
      "new edges: 3219 subset: 3219\n",
      "new edges: 30519 subset: 30519\n",
      "-- experiment 8 --\n",
      "Initial node 20\n",
      "new edges: 1 subset: 1\n",
      "new edges: 150 subset: 150\n",
      "new edges: 3219 subset: 3219\n",
      "new edges: 30519 subset: 30519\n",
      "-- experiment 9 --\n",
      "Initial node 20\n",
      "new edges: 1 subset: 1\n",
      "new edges: 150 subset: 150\n",
      "new edges: 3219 subset: 3219\n",
      "new edges: 30519 subset: 30519\n"
     ]
    }
   ],
   "source": [
    "graph_handle.rules['min_degree'] = 1\n",
    "params_snowball = {'nb_iter' : 10, 'exploration_depth' : 4,\n",
    "            'initial_node' : 20, 'random_subset_size' : 1, 'balltype' : 'spikyball'}\n",
    "node_snowball = test_module.ball_test(graph_handle,params_snowball)\n",
    "# dictionary with each node as key and its degree as value\n",
    "degree_snowball = dict(G.degree(node_snowball.keys()))"
   ]
  },
  {
   "cell_type": "markdown",
   "metadata": {},
   "source": [
    "## Degree stats"
   ]
  },
  {
   "cell_type": "code",
   "execution_count": 15,
   "metadata": {},
   "outputs": [],
   "source": [
    "def bin_degrees(visits,degrees):\n",
    "    count_dic = {}\n",
    "    bin_count=100\n",
    "    bins = np.logspace(0,10,num=bin_count)\n",
    "    for v,d in zip(visits,degrees):\n",
    "        l_list = [n for n in bins if n<=d]\n",
    "        last = l_list[-1]\n",
    "        if last in count_dic:\n",
    "            count_dic[last].append(v)\n",
    "        else:\n",
    "            count_dic[last] = [v]\n",
    "    # process the mean value\n",
    "    hist_dic = {}\n",
    "    for b,l in count_dic.items():\n",
    "        hist_dic[b] = np.mean(l)\n",
    "    return list(hist_dic.keys()), list(hist_dic.values())"
   ]
  },
  {
   "cell_type": "code",
   "execution_count": 16,
   "metadata": {},
   "outputs": [],
   "source": [
    "def degree_wrt_visits(node_dic,degree_dic):\n",
    "    visits = []\n",
    "    degrees = []\n",
    "    for node,iters in node_dic.items():\n",
    "        nb_visits = len(iters)\n",
    "        visits.append(nb_visits)\n",
    "        degrees.append(degree_dic[node])\n",
    "\n",
    "    return visits,degrees"
   ]
  },
  {
   "cell_type": "code",
   "execution_count": 17,
   "metadata": {},
   "outputs": [],
   "source": [
    "xsn,ysn = degree_wrt_visits(node_snowball,degree_snowball)\n",
    "\n",
    "xsp,ysp = degree_wrt_visits(node_spiky,degree_spiky)\n",
    "\n",
    "xf,yf = degree_wrt_visits(node_fire,degree_fire)"
   ]
  },
  {
   "cell_type": "code",
   "execution_count": 18,
   "metadata": {},
   "outputs": [],
   "source": [
    "import seaborn as sns"
   ]
  },
  {
   "cell_type": "code",
   "execution_count": 19,
   "metadata": {},
   "outputs": [],
   "source": [
    "import matplotlib.pyplot as plt\n",
    "plt.style.use('seaborn-whitegrid')"
   ]
  },
  {
   "cell_type": "code",
   "execution_count": 20,
   "metadata": {},
   "outputs": [
    {
     "data": {
      "image/png": "[encoded data removed]",
      "text/plain": [
       "<Figure size 432x288 with 1 Axes>"
      ]
     },
     "metadata": {},
     "output_type": "display_data"
    }
   ],
   "source": [
    "xx,yy = bin_degrees(xsn,ysn)\n",
    "sns.lineplot(x=xx, y=yy, label='snow' , marker='o')\n",
    "xx,yy = bin_degrees(xsp,ysp)\n",
    "sns.lineplot(x=xx, y=yy, label='spiky' , marker='o')\n",
    "xx,yy = bin_degrees(xf,yf)\n",
    "sns.lineplot(x=xx, y=yy,label='fire' , marker='o')\n",
    "plt.xscale('log')"
   ]
  },
  {
   "cell_type": "markdown",
   "metadata": {},
   "source": [
    "## Same plot with error bars"
   ]
  },
  {
   "cell_type": "code",
   "execution_count": 21,
   "metadata": {},
   "outputs": [],
   "source": [
    "def bin_degrees_repeat(visits,degrees):\n",
    "    count_dic = {}\n",
    "    bin_count=100\n",
    "    bins = np.logspace(0,10,num=bin_count)\n",
    "    for v,d in zip(visits,degrees):\n",
    "        l_list = [n for n in bins if n<=d]\n",
    "        last = l_list[-1]\n",
    "        if last in count_dic:\n",
    "            count_dic[last].append(v)\n",
    "        else:\n",
    "            count_dic[last] = [v]\n",
    "    # process the mean value\n",
    "    d_list = []\n",
    "    v_list = []\n",
    "    for b,l in count_dic.items():\n",
    "        for vis in l:\n",
    "            d_list.append(b)\n",
    "            v_list.append(vis)\n",
    "    return d_list,v_list"
   ]
  },
  {
   "cell_type": "code",
   "execution_count": 28,
   "metadata": {},
   "outputs": [
    {
     "name": "stderr",
     "output_type": "stream",
     "text": [
      "/usr/local/lib/python3.6/dist-packages/scipy/stats/stats.py:1713: FutureWarning: Using a non-tuple sequence for multidimensional indexing is deprecated; use `arr[tuple(seq)]` instead of `arr[seq]`. In the future this will be interpreted as an array index, `arr[np.array(seq)]`, which will result either in an error or a different result.\n",
      "  return np.add.reduce(sorted[indexer] * weights, axis=axis) / sumval\n"
     ]
    },
    {
     "data": {
      "image/png": "[encoded data removed]",
      "text/plain": [
       "<Figure size 432x288 with 1 Axes>"
      ]
     },
     "metadata": {},
     "output_type": "display_data"
    }
   ],
   "source": [
    "xx,yy = bin_degrees_repeat(xsn,ysn)\n",
    "sns_plot = sns.lineplot(x=xx, y=yy, label='snow' , marker='o')\n",
    "xx,yy = bin_degrees_repeat(xsp,ysp)\n",
    "sns.lineplot(x=xx, y=yy, label='spiky' , marker='o')\n",
    "xx,yy = bin_degrees_repeat(xf,yf)\n",
    "sns.lineplot(x=xx, y=yy,label='fire' , marker='o')\n",
    "plt.xscale('log')\n",
    "#plt.yscale('log')\n",
    "plt.xlabel('Node degree')\n",
    "plt.ylabel('Number of time visited')\n",
    "fig = sns_plot.get_figure()\n",
    "fig.savefig(data_path + \"visits_wrt_degree.png\")"
   ]
  },
  {
   "cell_type": "code",
   "execution_count": null,
   "metadata": {},
   "outputs": [],
   "source": []
  }
 ],
 "metadata": {
  "kernelspec": {
   "display_name": "Python 3",
   "language": "python",
   "name": "python3"
  },
  "language_info": {
   "codemirror_mode": {
    "name": "ipython",
    "version": 3
   },
   "file_extension": ".py",
   "mimetype": "text/x-python",
   "name": "python",
   "nbconvert_exporter": "python",
   "pygments_lexer": "ipython3",
   "version": "3.6.9"
  }
 },
 "nbformat": 4,
 "nbformat_minor": 4
}
